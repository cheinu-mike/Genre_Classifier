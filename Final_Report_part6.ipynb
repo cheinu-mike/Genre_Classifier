{
 "cells": [
  {
   "cell_type": "code",
   "execution_count": 1,
   "metadata": {},
   "outputs": [],
   "source": [
    "import pandas as pd\n",
    "import numpy as np\n",
    "import re\n",
    "import json\n",
    "import math\n",
    "import matplotlib.pyplot as plt\n",
    "from matplotlib import cm\n",
    "from matplotlib.colors import ListedColormap\n",
    "import tensorflow as tf\n",
    "from tensorflow import keras\n",
    "from tensorflow.keras.models import load_model\n",
    "from tensorflow.keras.metrics import top_k_categorical_accuracy\n",
    "from tensorflow.keras.losses import categorical_hinge, categorical_crossentropy, sparse_categorical_crossentropy\n",
    "import tensorflow.keras.backend as K\n",
    "from sklearn.metrics import confusion_matrix, ConfusionMatrixDisplay\n",
    "from sklearn.preprocessing import MinMaxScaler\n",
    "pd.set_option('display.max_columns', 550)"
   ]
  },
  {
   "cell_type": "markdown",
   "metadata": {},
   "source": [
    "# Verify the results\n",
    "Let's load in the model that we saved and take a look at the results using a sample chunk of data"
   ]
  },
  {
   "cell_type": "code",
   "execution_count": 2,
   "metadata": {},
   "outputs": [],
   "source": [
    "def top3(y_true, y_pred):\n",
    "    return top_k_categorical_accuracy(y_true, y_pred, k=3)\n",
    "\n",
    "def top5(y_true, y_pred):\n",
    "    return top_k_categorical_accuracy(y_true, y_pred, k=5)\n",
    "\n",
    "def top10(y_true, y_pred):\n",
    "    return top_k_categorical_accuracy(y_true, y_pred, k=10)\n",
    "\n",
    "model1 = load_model('models/final_model3.h5', custom_objects={'top3': top3, 'top5': top5, 'top10':top10})\n",
    "with open('genredict.json') as j1:\n",
    "    genredict = json.load(j1)\n",
    "\n",
    "with open('key_scale_dict.json') as j4:\n",
    "    key_scale_dict = json.load(j4)\n",
    "with open('key_key_dict.json') as j5:\n",
    "    key_key_dict = json.load(j5)\n",
    "outputshape =len(genredict)\n",
    "\n",
    "key_scale_ind = {v: int(k) for k, v in key_scale_dict.items()}\n",
    "key_key_ind = {v: int(k) for k, v in key_key_dict.items()}"
   ]
  },
  {
   "cell_type": "code",
   "execution_count": 3,
   "metadata": {},
   "outputs": [],
   "source": [
    "df = pd.read_parquet('google_cloud_data/final_{}.parquet'.format(20)).drop(columns=['genre', 'thpcp', 'beats_position'])\n",
    "#df = df.sample(n=1000).reset_index(drop=True)"
   ]
  },
  {
   "cell_type": "markdown",
   "metadata": {},
   "source": [
    "# Process Data\n",
    "Let's process the data so we can fit it. The processing pipeline is the same as the last file."
   ]
  },
  {
   "cell_type": "code",
   "execution_count": 4,
   "metadata": {},
   "outputs": [],
   "source": [
    "def dstacker(arr1, arr2):\n",
    "    dstack = []\n",
    "    for i in range(len(arr1)):\n",
    "        dstack.append(np.dstack((arr1[i], arr2[i])))\n",
    "    return np.array(dstack)\n",
    "\n",
    "df['chords_key'] = df['chords_key'].apply(lambda x: key_key_ind[x])\n",
    "\n",
    "df['chords_scale'] = df['chords_scale'].apply(lambda x: key_scale_ind[x])\n",
    "\n",
    "df['key_key'] = df['key_key'].apply(lambda x: key_key_ind[x])\n",
    "\n",
    "df['key_scale'] = df['key_scale'].apply(lambda x: key_scale_ind[x])"
   ]
  },
  {
   "cell_type": "code",
   "execution_count": 5,
   "metadata": {},
   "outputs": [],
   "source": [
    "def feature_spliter(df):\n",
    "    df = df.sample(frac=1).reset_index(drop=True)\n",
    "    X_flat = df.select_dtypes(exclude=['object']).drop(columns=['count'])\n",
    "    gfccc = np.array(list(df['gfcc.cov'].apply(lambda x: [i.tolist() for i in x])))/10000\n",
    "    gfcci = np.array(list(df['gfcc.icov'].apply(lambda x: [i.tolist() for i in x])))\n",
    "    mfccc = np.array(list(df['mfcc.cov'].apply(lambda x: [i.tolist() for i in x])))/10000\n",
    "    mfcci = np.array(list(df['mfcc.icov'].apply(lambda x: [i.tolist() for i in x])))\n",
    "    \n",
    "    gfcc = dstacker(gfccc, gfcci)\n",
    "    mfcc = dstacker(mfccc, mfcci)\n",
    "    \n",
    "    hpcp = np.array(list(df['hpcp'].apply(lambda x: [i.tolist() for i in x])))\n",
    "    hpcp = np.expand_dims(hpcp, axis=3)\n",
    "    \n",
    "    chord_hist = np.array(list(df['chords_histogram']))/100\n",
    "    \n",
    "    barkbands = np.array(list(df['barkbands'].apply(lambda x: [i.tolist() for i in x])))\n",
    "    barkbands = np.expand_dims(barkbands, axis=3)\n",
    "    erbbands = np.array(list(df['erbbands'].apply(lambda x: [i.tolist() for i in x])))\n",
    "    erbbands = np.expand_dims(erbbands, axis=3)\n",
    "    melbands = np.array(list(df['melbands'].apply(lambda x: [i.tolist() for i in x])))\n",
    "    melbands = np.expand_dims(melbands, axis=3)\n",
    "    sccoef = np.array(list(df['spectral_contrast_coeffs'].apply(lambda x: [i.tolist() for i in x])))\n",
    "    sccoef = np.expand_dims(sccoef, axis=3)\n",
    "    scvalley = np.array(list(df['spectral_contrast_valleys'].apply(lambda x: [i.tolist() for i in x])))\n",
    "    scvalley = np.expand_dims(scvalley, axis=3)\n",
    "    blratio = np.array(list(df['beats_loudness_band_ratio'].apply(lambda x: [i.tolist() for i in x])))\n",
    "    blratio = np.expand_dims(blratio, axis=3)\n",
    "\n",
    "    gfmean = np.array(list(df['gfcc.mean']))/100\n",
    "    mfmean = np.array(list(df['mfcc.mean']))/100\n",
    "    \n",
    "    scaler = MinMaxScaler(feature_range=(0.75, 1))\n",
    "    sample_weights = np.array(list(df['count']))#+1\n",
    "    sample_weights = np.array(list(map(math.log, sample_weights)))\n",
    "    sample_weights = scaler.fit_transform(sample_weights.reshape(-1,1))\n",
    "    sample_weights = sample_weights.squeeze()\n",
    "    \n",
    "    Yall = np.array(list(df['cat_cross']))\n",
    "    df = 0\n",
    "    return [gfcc, mfcc, X_flat, hpcp, chord_hist, barkbands, erbbands, melbands, sccoef, \n",
    "            scvalley, blratio, gfmean, mfmean, sample_weights, Yall]"
   ]
  },
  {
   "cell_type": "code",
   "execution_count": 6,
   "metadata": {},
   "outputs": [
    {
     "name": "stdout",
     "output_type": "stream",
     "text": [
      "CPU times: user 2.31 s, sys: 347 ms, total: 2.66 s\n",
      "Wall time: 2.56 s\n"
     ]
    }
   ],
   "source": [
    "%%time\n",
    "inputs = feature_spliter(df.drop(columns=['gid', 'genre_id']))"
   ]
  },
  {
   "cell_type": "code",
   "execution_count": 7,
   "metadata": {},
   "outputs": [],
   "source": [
    "model_predict = model1.predict(inputs[:-2])"
   ]
  },
  {
   "cell_type": "markdown",
   "metadata": {},
   "source": [
    "# Confusion Matrix\n",
    "Because of the sheer number of genres, for visualization we will only look at the major genres for visualization."
   ]
  },
  {
   "cell_type": "code",
   "execution_count": 8,
   "metadata": {},
   "outputs": [],
   "source": [
    "#all genres\n",
    "CLASSES = [v for k,v in genredict.items()]\n",
    "\n",
    "#major genres\n",
    "major_genres = ['rock', 'pop', 'blues','electronic' ,'jazz', 'country', 'metal', 'classical', 'soul', 'reggae', 'punk', 'funk']"
   ]
  },
  {
   "cell_type": "code",
   "execution_count": 9,
   "metadata": {},
   "outputs": [
    {
     "data": {
      "text/html": [
       "<div>\n",
       "<style scoped>\n",
       "    .dataframe tbody tr th:only-of-type {\n",
       "        vertical-align: middle;\n",
       "    }\n",
       "\n",
       "    .dataframe tbody tr th {\n",
       "        vertical-align: top;\n",
       "    }\n",
       "\n",
       "    .dataframe thead th {\n",
       "        text-align: right;\n",
       "    }\n",
       "</style>\n",
       "<table border=\"1\" class=\"dataframe\">\n",
       "  <thead>\n",
       "    <tr style=\"text-align: right;\">\n",
       "      <th></th>\n",
       "      <th>pred</th>\n",
       "      <th>true</th>\n",
       "      <th>top3</th>\n",
       "      <th>top5</th>\n",
       "      <th>top10</th>\n",
       "    </tr>\n",
       "  </thead>\n",
       "  <tbody>\n",
       "    <tr>\n",
       "      <th>0</th>\n",
       "      <td>r&amp;b</td>\n",
       "      <td>rock</td>\n",
       "      <td>0.0</td>\n",
       "      <td>0.0</td>\n",
       "      <td>0.0</td>\n",
       "    </tr>\n",
       "    <tr>\n",
       "      <th>1</th>\n",
       "      <td>rock</td>\n",
       "      <td>rock</td>\n",
       "      <td>1.0</td>\n",
       "      <td>1.0</td>\n",
       "      <td>1.0</td>\n",
       "    </tr>\n",
       "    <tr>\n",
       "      <th>2</th>\n",
       "      <td>pop</td>\n",
       "      <td>britpop</td>\n",
       "      <td>0.0</td>\n",
       "      <td>0.0</td>\n",
       "      <td>0.0</td>\n",
       "    </tr>\n",
       "    <tr>\n",
       "      <th>3</th>\n",
       "      <td>electronic</td>\n",
       "      <td>dark wave</td>\n",
       "      <td>0.0</td>\n",
       "      <td>0.0</td>\n",
       "      <td>1.0</td>\n",
       "    </tr>\n",
       "    <tr>\n",
       "      <th>4</th>\n",
       "      <td>pop</td>\n",
       "      <td>alternative dance</td>\n",
       "      <td>0.0</td>\n",
       "      <td>0.0</td>\n",
       "      <td>0.0</td>\n",
       "    </tr>\n",
       "  </tbody>\n",
       "</table>\n",
       "</div>"
      ],
      "text/plain": [
       "         pred               true  top3  top5  top10\n",
       "0         r&b               rock   0.0   0.0    0.0\n",
       "1        rock               rock   1.0   1.0    1.0\n",
       "2         pop            britpop   0.0   0.0    0.0\n",
       "3  electronic          dark wave   0.0   0.0    1.0\n",
       "4         pop  alternative dance   0.0   0.0    0.0"
      ]
     },
     "execution_count": 9,
     "metadata": {},
     "output_type": "execute_result"
    }
   ],
   "source": [
    "Y_test = [np.argmax(i) for i in inputs[-1]]\n",
    "y_pred = [genredict[str(c)] for c in np.argmax(model_predict, axis=-1)]\n",
    "y_true = [genredict[str(c)] for c in Y_test]\n",
    "\n",
    "prediction_df = pd.DataFrame(list(zip(y_pred, y_true)), columns = ['pred', 'true'])\n",
    "prediction_df['top3'] = top_k_categorical_accuracy(inputs[-1], model_predict, k=3).numpy()\n",
    "prediction_df['top5'] = top_k_categorical_accuracy(inputs[-1], model_predict, k=5).numpy()\n",
    "prediction_df['top10'] = top_k_categorical_accuracy(inputs[-1], model_predict, k=10).numpy()\n",
    "prediction_df.head()"
   ]
  },
  {
   "cell_type": "markdown",
   "metadata": {},
   "source": [
    "Let's get a dataframe for just the major genres"
   ]
  },
  {
   "cell_type": "code",
   "execution_count": 10,
   "metadata": {},
   "outputs": [],
   "source": [
    "major_df = prediction_df[prediction_df['pred'].isin(major_genres)]\n",
    "major_df = major_df[major_df['true'].isin(major_genres)]"
   ]
  },
  {
   "cell_type": "markdown",
   "metadata": {},
   "source": [
    "## Confusion Matrix Plot"
   ]
  },
  {
   "cell_type": "code",
   "execution_count": 11,
   "metadata": {},
   "outputs": [
    {
     "data": {
      "image/png": "[encoded data removed]",
      "text/plain": [
       "<Figure size 720x720 with 2 Axes>"
      ]
     },
     "metadata": {
      "needs_background": "light"
     },
     "output_type": "display_data"
    }
   ],
   "source": [
    "conm_major = confusion_matrix(major_df['true'], major_df['pred'], labels=major_genres, normalize='true')\n",
    "\n",
    "fig, ax = plt.subplots(figsize=(10,10))\n",
    "\n",
    "cmd_major = ConfusionMatrixDisplay(conm_major, display_labels=major_genres)\n",
    "\n",
    "ax.grid(False)\n",
    "cmd_major.plot(ax=ax, values_format='.2f', xticks_rotation='vertical')\n",
    "for i in cmd_major.text_: #set font size\n",
    "    for j in i:\n",
    "        j.set_size(12)\n",
    "cmd_major.ax_.yaxis.label.set_size(14)\n",
    "cmd_major.ax_.xaxis.label.set_size(14)\n",
    "plt.title('Confusion Matrix for Major Genres', fontdict={'fontsize': 18, 'fontweight': 'bold'})\n",
    "plt.show()"
   ]
  },
  {
   "cell_type": "markdown",
   "metadata": {},
   "source": [
    "The model is surprisingly good at classifying classical music. Overall, the scores may be inflated due to the fact that I'm also filtering out the predictions as well."
   ]
  },
  {
   "cell_type": "markdown",
   "metadata": {},
   "source": [
    "### Symmetric Confusion Matrix\n",
    "Let's get a better idea of the pairs where the model gets it wrong"
   ]
  },
  {
   "cell_type": "code",
   "execution_count": 12,
   "metadata": {},
   "outputs": [],
   "source": [
    "viridis = cm.get_cmap('viridis', 256)\n",
    "newcolors = viridis(np.linspace(0, 1, 256))\n",
    "black = np.array([0/256, 0/256, 0/256, 1])\n",
    "newcolors[:1, :] = black\n",
    "newcmp = ListedColormap(newcolors)"
   ]
  },
  {
   "cell_type": "code",
   "execution_count": 13,
   "metadata": {},
   "outputs": [
    {
     "data": {
      "image/png": "[encoded data removed]",
      "text/plain": [
       "<Figure size 720x720 with 2 Axes>"
      ]
     },
     "metadata": {
      "needs_background": "light"
     },
     "output_type": "display_data"
    }
   ],
   "source": [
    "tcm = np.transpose(conm_major)\n",
    "symscores = tcm+conm_major\n",
    "\n",
    "fig, ax = plt.subplots(figsize=(10,10))\n",
    "iu1 = np.triu_indices(len(major_genres))\n",
    "symscores[iu1] = -0.005\n",
    "\n",
    "symscoresd = ConfusionMatrixDisplay(symscores, display_labels=major_genres)\n",
    "ax.grid(False)\n",
    "symscoresd.plot(ax=ax, values_format='.2f', xticks_rotation='vertical', cmap= newcmp)\n",
    "\n",
    "for i in symscoresd.text_: #set font size\n",
    "    for j in i:\n",
    "        j.set_size(12)\n",
    "\n",
    "for k in symscoresd.text_[iu1]:\n",
    "    k.remove()\n",
    "symscoresd.ax_.yaxis.label.set_size(14)\n",
    "symscoresd.ax_.xaxis.label.set_size(14)\n",
    "plt.title('Symmetric Confusion Matrix', fontdict={'fontsize': 18, 'fontweight': 'bold'})\n",
    "plt.show()"
   ]
  },
  {
   "cell_type": "code",
   "execution_count": 14,
   "metadata": {},
   "outputs": [
    {
     "name": "stdout",
     "output_type": "stream",
     "text": [
      "\n",
      "% correctness under strict measure:  76.92307692307692\n",
      "% Top 3 correctness:  88.8504753673293\n",
      "% Top 5 correctness:  92.76865456640738\n",
      "% Top 10 correctness:  96.74445404782483\n"
     ]
    },
    {
     "data": {
      "text/html": [
       "<div>\n",
       "<style scoped>\n",
       "    .dataframe tbody tr th:only-of-type {\n",
       "        vertical-align: middle;\n",
       "    }\n",
       "\n",
       "    .dataframe tbody tr th {\n",
       "        vertical-align: top;\n",
       "    }\n",
       "\n",
       "    .dataframe thead th {\n",
       "        text-align: right;\n",
       "    }\n",
       "</style>\n",
       "<table border=\"1\" class=\"dataframe\">\n",
       "  <thead>\n",
       "    <tr style=\"text-align: right;\">\n",
       "      <th></th>\n",
       "      <th>sym_score</th>\n",
       "    </tr>\n",
       "  </thead>\n",
       "  <tbody>\n",
       "    <tr>\n",
       "      <th>metal, rock</th>\n",
       "      <td>0.583333</td>\n",
       "    </tr>\n",
       "    <tr>\n",
       "      <th>punk, rock</th>\n",
       "      <td>0.455795</td>\n",
       "    </tr>\n",
       "    <tr>\n",
       "      <th>pop, rock</th>\n",
       "      <td>0.366842</td>\n",
       "    </tr>\n",
       "    <tr>\n",
       "      <th>blues, rock</th>\n",
       "      <td>0.361315</td>\n",
       "    </tr>\n",
       "    <tr>\n",
       "      <th>funk, soul</th>\n",
       "      <td>0.328526</td>\n",
       "    </tr>\n",
       "    <tr>\n",
       "      <th>funk, rock</th>\n",
       "      <td>0.309097</td>\n",
       "    </tr>\n",
       "    <tr>\n",
       "      <th>soul, pop</th>\n",
       "      <td>0.208786</td>\n",
       "    </tr>\n",
       "    <tr>\n",
       "      <th>soul, rock</th>\n",
       "      <td>0.197331</td>\n",
       "    </tr>\n",
       "    <tr>\n",
       "      <th>electronic, rock</th>\n",
       "      <td>0.190175</td>\n",
       "    </tr>\n",
       "    <tr>\n",
       "      <th>reggae, rock</th>\n",
       "      <td>0.181380</td>\n",
       "    </tr>\n",
       "  </tbody>\n",
       "</table>\n",
       "</div>"
      ],
      "text/plain": [
       "                  sym_score\n",
       "metal, rock        0.583333\n",
       "punk, rock         0.455795\n",
       "pop, rock          0.366842\n",
       "blues, rock        0.361315\n",
       "funk, soul         0.328526\n",
       "funk, rock         0.309097\n",
       "soul, pop          0.208786\n",
       "soul, rock         0.197331\n",
       "electronic, rock   0.190175\n",
       "reggae, rock       0.181380"
      ]
     },
     "execution_count": 14,
     "metadata": {},
     "output_type": "execute_result"
    }
   ],
   "source": [
    "class_mat = major_genres.copy()\n",
    "class_mat = np.array(class_mat*len(major_genres)).reshape(len(major_genres),len(major_genres))\n",
    "class_mat_t = np.transpose(class_mat)\n",
    "class_pair = np.dstack((class_mat_t, class_mat))\n",
    "\n",
    "combres = np.dstack((class_pair, symscores))\n",
    "\n",
    "print()\n",
    "resdict = {}\n",
    "for i in combres:\n",
    "    for j in i:\n",
    "        keypair = j[0] + \", \" +j[1]\n",
    "        resdict.update({keypair: 0})\n",
    "for i in combres:\n",
    "    for j in i:\n",
    "        keypair = j[0] + \", \" +j[1]\n",
    "        if float(j[2]) <0:\n",
    "            continue\n",
    "        elif float(j[2]) > resdict[keypair]:\n",
    "            resdict[keypair] = float(j[2])\n",
    "\n",
    "deletekey = [k for k,v in resdict.items() if v<=0]\n",
    "for k in deletekey:\n",
    "    del resdict[k]\n",
    "resdict = {k: v for k, v in sorted(resdict.items(), key=lambda item: item[1], reverse=True)}\n",
    "\n",
    "major_df['strict_correct'] = np.where(major_df['pred'] == major_df['true'], True, False)\n",
    "print(\"% correctness under strict measure: \", sum(major_df.loc[:,'strict_correct'])*100/len(major_df))\n",
    "print(\"% Top 3 correctness: \", sum(major_df.loc[:,'top3'])*100/len(major_df))\n",
    "print(\"% Top 5 correctness: \", sum(major_df.loc[:,'top5'])*100/len(major_df))\n",
    "print(\"% Top 10 correctness: \", sum(major_df.loc[:,'top10']*100)/len(major_df))\n",
    "\n",
    "symtable = pd.DataFrame.from_dict(resdict, orient='index', columns=['sym_score'])\n",
    "symtable.head(10)"
   ]
  },
  {
   "cell_type": "markdown",
   "metadata": {},
   "source": [
    "We can clearly see that the model \"confuses\" metal with rock, punk with rock, and pop with rock most often. Overall, these are very similar genres so the wrongness is acceptable."
   ]
  },
  {
   "cell_type": "markdown",
   "metadata": {},
   "source": [
    "# For Other Genres\n",
    "Of course the major genres are the most common so it's very possible that the model just guesses the major genres to get a higher score. So let's completely eliminate the major genres from the test set by filtering out major genres in the \"true\" column. But let's be generous here, there are many subgenres which are very similar so let's make it so that if a single word of prediction matches a single word in the true value I will consider that to be correct. The limitation is that the pair with the same prefix such as \"post\" and \"alternative\" will be flagged as correct which may inflate the score, but there are also subgenres where they don't share any words especially for electronic genres such as \"house\" and \"trance\" with \"electronic\". Fixing this would require manual intervention and categorization of genres."
   ]
  },
  {
   "cell_type": "code",
   "execution_count": 15,
   "metadata": {},
   "outputs": [],
   "source": [
    "# function that returns True if a single word matches\n",
    "def regex_true(y_pred, y_true):\n",
    "    pred_set = set(re.split(r'\\s|-', y_pred))\n",
    "    true_set = set(re.split(r'\\s|-', y_true))\n",
    "    for i in pred_set:\n",
    "        for j in true_set:\n",
    "            if len(re.findall(i, j))>0:\n",
    "                return True\n",
    "    return False"
   ]
  },
  {
   "cell_type": "markdown",
   "metadata": {},
   "source": [
    "With a strict definition of correctness of a genre we see that the model performs much more poorly, however we still see that the model is still generalizing given that a lower standard produces a higher result"
   ]
  },
  {
   "cell_type": "code",
   "execution_count": 16,
   "metadata": {},
   "outputs": [
    {
     "name": "stdout",
     "output_type": "stream",
     "text": [
      "% correctness under strict measure:  23.57894736842105\n",
      "% correctness under the regex standard:  51.93684210526316\n",
      "% Top 3 correctness:  47.22105263157895\n",
      "% Top 5 correctness:  59.915789473684214\n",
      "% Top 10 correctness:  76.10526315789474\n"
     ]
    },
    {
     "name": "stderr",
     "output_type": "stream",
     "text": [
      "/home/cheinu/anaconda3/envs/dl/lib/python3.7/site-packages/ipykernel_launcher.py:3: SettingWithCopyWarning: \n",
      "A value is trying to be set on a copy of a slice from a DataFrame.\n",
      "Try using .loc[row_indexer,col_indexer] = value instead\n",
      "\n",
      "See the caveats in the documentation: https://pandas.pydata.org/pandas-docs/stable/user_guide/indexing.html#returning-a-view-versus-a-copy\n",
      "  This is separate from the ipykernel package so we can avoid doing imports until\n",
      "/home/cheinu/anaconda3/envs/dl/lib/python3.7/site-packages/ipykernel_launcher.py:4: SettingWithCopyWarning: \n",
      "A value is trying to be set on a copy of a slice from a DataFrame.\n",
      "Try using .loc[row_indexer,col_indexer] = value instead\n",
      "\n",
      "See the caveats in the documentation: https://pandas.pydata.org/pandas-docs/stable/user_guide/indexing.html#returning-a-view-versus-a-copy\n",
      "  after removing the cwd from sys.path.\n"
     ]
    }
   ],
   "source": [
    "minor_df = prediction_df.query(\"true not in @major_genres\")\n",
    "#minor_df = minor_df.query(\"pred not in @macrogenre\")\n",
    "minor_df['strict_correct'] = np.where(minor_df['pred'] == minor_df['true'], True, False)\n",
    "minor_df['loose_correct'] = minor_df.loc[:,['pred', 'true']].apply(lambda x: regex_true(*x), axis=1)\n",
    "print(\"% correctness under strict measure: \", sum(minor_df.loc[:,'strict_correct'])*100/len(minor_df))\n",
    "print(\"% correctness under the regex standard: \", sum(minor_df.loc[:,'loose_correct'])*100/len(minor_df))\n",
    "print(\"% Top 3 correctness: \", sum(minor_df.loc[:,'top3'])*100/len(minor_df))\n",
    "print(\"% Top 5 correctness: \", sum(minor_df.loc[:,'top5'])*100/len(minor_df))\n",
    "print(\"% Top 10 correctness: \", sum(minor_df.loc[:,'top10'])*100/len(minor_df))\n",
    "#minor_df.head()"
   ]
  },
  {
   "cell_type": "markdown",
   "metadata": {},
   "source": [
    "We can take the mean of all the scores. This will favor certain genres that are only present only a handful of times but we have an idea of where the model gets it correct."
   ]
  },
  {
   "cell_type": "code",
   "execution_count": 17,
   "metadata": {},
   "outputs": [],
   "source": [
    "strict_score = pd.DataFrame(minor_df.groupby('true')['strict_correct'].mean().sort_values(ascending=False))\n",
    "loose_score = pd.DataFrame(minor_df.groupby('true')['loose_correct'].mean().sort_values(ascending=False))\n",
    "top3_score = pd.DataFrame(minor_df.groupby('true')['top3'].mean().sort_values(ascending=False))\n",
    "top5_score = pd.DataFrame(minor_df.groupby('true')['top5'].mean().sort_values(ascending=False))\n",
    "top10_score = pd.DataFrame(minor_df.groupby('true')['top10'].mean().sort_values(ascending=False))\n",
    "\n",
    "normalized_minor_scores = strict_score.join(loose_score).join(top3_score).join(top5_score).join(top10_score)"
   ]
  },
  {
   "cell_type": "code",
   "execution_count": 18,
   "metadata": {},
   "outputs": [
    {
     "data": {
      "text/html": [
       "<div>\n",
       "<style scoped>\n",
       "    .dataframe tbody tr th:only-of-type {\n",
       "        vertical-align: middle;\n",
       "    }\n",
       "\n",
       "    .dataframe tbody tr th {\n",
       "        vertical-align: top;\n",
       "    }\n",
       "\n",
       "    .dataframe thead th {\n",
       "        text-align: right;\n",
       "    }\n",
       "</style>\n",
       "<table border=\"1\" class=\"dataframe\">\n",
       "  <thead>\n",
       "    <tr style=\"text-align: right;\">\n",
       "      <th></th>\n",
       "      <th>strict_correct</th>\n",
       "      <th>loose_correct</th>\n",
       "      <th>top3</th>\n",
       "      <th>top5</th>\n",
       "      <th>top10</th>\n",
       "    </tr>\n",
       "    <tr>\n",
       "      <th>true</th>\n",
       "      <th></th>\n",
       "      <th></th>\n",
       "      <th></th>\n",
       "      <th></th>\n",
       "      <th></th>\n",
       "    </tr>\n",
       "  </thead>\n",
       "  <tbody>\n",
       "    <tr>\n",
       "      <th>ethereal</th>\n",
       "      <td>1.000000</td>\n",
       "      <td>1.000000</td>\n",
       "      <td>1.000000</td>\n",
       "      <td>1.000000</td>\n",
       "      <td>1.000000</td>\n",
       "    </tr>\n",
       "    <tr>\n",
       "      <th>flamenco</th>\n",
       "      <td>1.000000</td>\n",
       "      <td>1.000000</td>\n",
       "      <td>1.000000</td>\n",
       "      <td>1.000000</td>\n",
       "      <td>1.000000</td>\n",
       "    </tr>\n",
       "    <tr>\n",
       "      <th>happy hardcore</th>\n",
       "      <td>1.000000</td>\n",
       "      <td>1.000000</td>\n",
       "      <td>1.000000</td>\n",
       "      <td>1.000000</td>\n",
       "      <td>1.000000</td>\n",
       "    </tr>\n",
       "    <tr>\n",
       "      <th>production music</th>\n",
       "      <td>0.954545</td>\n",
       "      <td>0.954545</td>\n",
       "      <td>0.972727</td>\n",
       "      <td>0.972727</td>\n",
       "      <td>1.000000</td>\n",
       "    </tr>\n",
       "    <tr>\n",
       "      <th>vocal jazz</th>\n",
       "      <td>0.800000</td>\n",
       "      <td>0.800000</td>\n",
       "      <td>0.800000</td>\n",
       "      <td>0.800000</td>\n",
       "      <td>1.000000</td>\n",
       "    </tr>\n",
       "    <tr>\n",
       "      <th>drum and bass</th>\n",
       "      <td>0.771429</td>\n",
       "      <td>0.771429</td>\n",
       "      <td>0.857143</td>\n",
       "      <td>0.857143</td>\n",
       "      <td>0.914286</td>\n",
       "    </tr>\n",
       "    <tr>\n",
       "      <th>classic country</th>\n",
       "      <td>0.769231</td>\n",
       "      <td>0.846154</td>\n",
       "      <td>0.923077</td>\n",
       "      <td>0.923077</td>\n",
       "      <td>1.000000</td>\n",
       "    </tr>\n",
       "    <tr>\n",
       "      <th>comedy</th>\n",
       "      <td>0.753846</td>\n",
       "      <td>0.753846</td>\n",
       "      <td>0.815385</td>\n",
       "      <td>0.846154</td>\n",
       "      <td>0.876923</td>\n",
       "    </tr>\n",
       "    <tr>\n",
       "      <th>spoken word</th>\n",
       "      <td>0.750000</td>\n",
       "      <td>0.750000</td>\n",
       "      <td>1.000000</td>\n",
       "      <td>1.000000</td>\n",
       "      <td>1.000000</td>\n",
       "    </tr>\n",
       "    <tr>\n",
       "      <th>contra</th>\n",
       "      <td>0.750000</td>\n",
       "      <td>0.750000</td>\n",
       "      <td>0.750000</td>\n",
       "      <td>0.750000</td>\n",
       "      <td>0.750000</td>\n",
       "    </tr>\n",
       "    <tr>\n",
       "      <th>hip hop</th>\n",
       "      <td>0.669903</td>\n",
       "      <td>0.669903</td>\n",
       "      <td>0.786408</td>\n",
       "      <td>0.864078</td>\n",
       "      <td>0.893204</td>\n",
       "    </tr>\n",
       "    <tr>\n",
       "      <th>musical</th>\n",
       "      <td>0.666667</td>\n",
       "      <td>0.666667</td>\n",
       "      <td>1.000000</td>\n",
       "      <td>1.000000</td>\n",
       "      <td>1.000000</td>\n",
       "    </tr>\n",
       "    <tr>\n",
       "      <th>trance</th>\n",
       "      <td>0.613636</td>\n",
       "      <td>0.613636</td>\n",
       "      <td>0.795455</td>\n",
       "      <td>0.886364</td>\n",
       "      <td>0.931818</td>\n",
       "    </tr>\n",
       "    <tr>\n",
       "      <th>heavy metal</th>\n",
       "      <td>0.608000</td>\n",
       "      <td>0.632000</td>\n",
       "      <td>0.824000</td>\n",
       "      <td>0.888000</td>\n",
       "      <td>0.920000</td>\n",
       "    </tr>\n",
       "    <tr>\n",
       "      <th>schlager</th>\n",
       "      <td>0.582278</td>\n",
       "      <td>0.582278</td>\n",
       "      <td>0.835443</td>\n",
       "      <td>0.911392</td>\n",
       "      <td>0.949367</td>\n",
       "    </tr>\n",
       "    <tr>\n",
       "      <th>techno</th>\n",
       "      <td>0.553191</td>\n",
       "      <td>0.553191</td>\n",
       "      <td>0.723404</td>\n",
       "      <td>0.723404</td>\n",
       "      <td>0.872340</td>\n",
       "    </tr>\n",
       "    <tr>\n",
       "      <th>rockabilly</th>\n",
       "      <td>0.501779</td>\n",
       "      <td>0.626335</td>\n",
       "      <td>0.708185</td>\n",
       "      <td>0.818505</td>\n",
       "      <td>0.914591</td>\n",
       "    </tr>\n",
       "    <tr>\n",
       "      <th>jazz fusion</th>\n",
       "      <td>0.500000</td>\n",
       "      <td>1.000000</td>\n",
       "      <td>0.750000</td>\n",
       "      <td>0.750000</td>\n",
       "      <td>1.000000</td>\n",
       "    </tr>\n",
       "    <tr>\n",
       "      <th>noise</th>\n",
       "      <td>0.500000</td>\n",
       "      <td>0.500000</td>\n",
       "      <td>0.500000</td>\n",
       "      <td>0.583333</td>\n",
       "      <td>0.666667</td>\n",
       "    </tr>\n",
       "    <tr>\n",
       "      <th>oi</th>\n",
       "      <td>0.500000</td>\n",
       "      <td>0.500000</td>\n",
       "      <td>0.500000</td>\n",
       "      <td>0.500000</td>\n",
       "      <td>0.500000</td>\n",
       "    </tr>\n",
       "  </tbody>\n",
       "</table>\n",
       "</div>"
      ],
      "text/plain": [
       "                  strict_correct  loose_correct      top3      top5     top10\n",
       "true                                                                         \n",
       "ethereal                1.000000       1.000000  1.000000  1.000000  1.000000\n",
       "flamenco                1.000000       1.000000  1.000000  1.000000  1.000000\n",
       "happy hardcore          1.000000       1.000000  1.000000  1.000000  1.000000\n",
       "production music        0.954545       0.954545  0.972727  0.972727  1.000000\n",
       "vocal jazz              0.800000       0.800000  0.800000  0.800000  1.000000\n",
       "drum and bass           0.771429       0.771429  0.857143  0.857143  0.914286\n",
       "classic country         0.769231       0.846154  0.923077  0.923077  1.000000\n",
       "comedy                  0.753846       0.753846  0.815385  0.846154  0.876923\n",
       "spoken word             0.750000       0.750000  1.000000  1.000000  1.000000\n",
       "contra                  0.750000       0.750000  0.750000  0.750000  0.750000\n",
       "hip hop                 0.669903       0.669903  0.786408  0.864078  0.893204\n",
       "musical                 0.666667       0.666667  1.000000  1.000000  1.000000\n",
       "trance                  0.613636       0.613636  0.795455  0.886364  0.931818\n",
       "heavy metal             0.608000       0.632000  0.824000  0.888000  0.920000\n",
       "schlager                0.582278       0.582278  0.835443  0.911392  0.949367\n",
       "techno                  0.553191       0.553191  0.723404  0.723404  0.872340\n",
       "rockabilly              0.501779       0.626335  0.708185  0.818505  0.914591\n",
       "jazz fusion             0.500000       1.000000  0.750000  0.750000  1.000000\n",
       "noise                   0.500000       0.500000  0.500000  0.583333  0.666667\n",
       "oi                      0.500000       0.500000  0.500000  0.500000  0.500000"
      ]
     },
     "execution_count": 18,
     "metadata": {},
     "output_type": "execute_result"
    }
   ],
   "source": [
    "normalized_minor_scores.head(20)"
   ]
  },
  {
   "cell_type": "markdown",
   "metadata": {},
   "source": [
    "### Regex standard for the Entire Test Data\n",
    "I forgot to do this but I'll do this here so I don't have to reformat everything."
   ]
  },
  {
   "cell_type": "code",
   "execution_count": 19,
   "metadata": {},
   "outputs": [
    {
     "name": "stdout",
     "output_type": "stream",
     "text": [
      "% correctness under the regex standard:  60.56745801968732\n"
     ]
    }
   ],
   "source": [
    "prediction_df['loose_correct'] = prediction_df.loc[:,['pred', 'true']].apply(lambda x: regex_true(*x), axis=1)\n",
    "print(\"% correctness under the regex standard: \", sum(prediction_df.loc[:,'loose_correct'])*100/len(prediction_df))"
   ]
  },
  {
   "cell_type": "code",
   "execution_count": null,
   "metadata": {},
   "outputs": [],
   "source": []
  }
 ],
 "metadata": {
  "kernelspec": {
   "display_name": "Python 3",
   "language": "python",
   "name": "python3"
  },
  "language_info": {
   "codemirror_mode": {
    "name": "ipython",
    "version": 3
   },
   "file_extension": ".py",
   "mimetype": "text/x-python",
   "name": "python",
   "nbconvert_exporter": "python",
   "pygments_lexer": "ipython3",
   "version": "3.7.6"
  }
 },
 "nbformat": 4,
 "nbformat_minor": 4
}
