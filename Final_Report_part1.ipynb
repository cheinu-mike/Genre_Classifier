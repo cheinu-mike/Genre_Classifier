{
 "cells": [
  {
   "cell_type": "code",
   "execution_count": 3,
   "metadata": {},
   "outputs": [],
   "source": [
    "import pandas as pd\n",
    "import numpy as np\n",
    "import json\n",
    "#%load_ext slurm_magic"
   ]
  },
  {
   "cell_type": "markdown",
   "metadata": {},
   "source": [
    "# Introduction\n",
    "\n",
    "### By cheinu-mike and bkrrobinson"
   ]
  },
  {
   "cell_type": "markdown",
   "metadata": {},
   "source": [
    "In this project we will be looking to analyze spectral data provided by AcouticBrainz for genre classification. We will also be needing a portion of the MusicBrainz database as that is what contains information on genres, votes for the genres, and the recording index needed for requesting AcousticBrainz Data.\n",
    "\n",
    "MusicBrainz and AcousticBrainz are a part of the Metabrainz Foundation where their goal is to make datasets freely and widely available. MusicBrainz hosts a database on the metadata of artists, recordings, albums, etc. while AcousticBrainz hosts data on the \"low level\" spectral data of recordings.\n",
    "\n",
    "We will obtain and use this low level spectral data and feed it into some machine learning algorithms to classify them.\n",
    "\n",
    "However, in order to obtain the data we can't just download it off their site. The data can be retrieved through the REST API and we need to make the requests. But even before that we need the recording ids from the MusicBrainz database which references a recording and we will also obtain genre information from there as well. \n",
    "\n",
    "The HTTP requests will be covered in the next section.  \n",
    "\n",
    "MusicBrainz Website:\n",
    "https://musicbrainz.org/\n",
    "\n",
    "AcousticBrainz Website:\n",
    "https://acousticbrainz.org/\n",
    "\n",
    "Basically our only real guiding question is this: **Using low level spectral data can we classify hundreds of genres? and how well will this classification perform?**"
   ]
  },
  {
   "cell_type": "markdown",
   "metadata": {},
   "source": [
    "## Obtaining and Processing MetaBrainz Data\n",
    "\n",
    "Obtaining MusicBrainz data is easy as you can either download it directly through a browser or through ftp in the link provided here:   \n",
    "\n",
    "https://musicbrainz.org/doc/MusicBrainz_Database/Download\n",
    "\n",
    "We need both **mbdump.tar.bz2** and **mbdump-derived.tar.bz2**. Uncompress them and you'll have access to all the files. mbdump possesses the meta data on recordings but it does not have information such as tags and genres which is why you need mbdump-derived as well.\n",
    "\n",
    "You can also take a look at the database schema here as we will need to merge multiple tables: https://musicbrainz.org/doc/MusicBrainz_Database/Schema "
   ]
  },
  {
   "cell_type": "markdown",
   "metadata": {},
   "source": [
    "### Recording Table\n",
    "\n",
    "Let's first look at the table that has the meta data on the recording and just get the columns we need which is 'id', 'gid', and 'name'. 'gid' is the most important as that is what we need to make the requests"
   ]
  },
  {
   "cell_type": "code",
   "execution_count": 2,
   "metadata": {},
   "outputs": [
    {
     "data": {
      "text/html": [
       "<div>\n",
       "<style scoped>\n",
       "    .dataframe tbody tr th:only-of-type {\n",
       "        vertical-align: middle;\n",
       "    }\n",
       "\n",
       "    .dataframe tbody tr th {\n",
       "        vertical-align: top;\n",
       "    }\n",
       "\n",
       "    .dataframe thead th {\n",
       "        text-align: right;\n",
       "    }\n",
       "</style>\n",
       "<table border=\"1\" class=\"dataframe\">\n",
       "  <thead>\n",
       "    <tr style=\"text-align: right;\">\n",
       "      <th></th>\n",
       "      <th>id</th>\n",
       "      <th>gid</th>\n",
       "      <th>name</th>\n",
       "    </tr>\n",
       "  </thead>\n",
       "  <tbody>\n",
       "    <tr>\n",
       "      <th>0</th>\n",
       "      <td>20937085</td>\n",
       "      <td>0f42ab32-22cd-4dcf-927b-a8d9a183d68b</td>\n",
       "      <td>Travelling Man</td>\n",
       "    </tr>\n",
       "    <tr>\n",
       "      <th>1</th>\n",
       "      <td>20937086</td>\n",
       "      <td>4dce8f93-45ee-4573-8558-8cd321256233</td>\n",
       "      <td>Live Up</td>\n",
       "    </tr>\n",
       "    <tr>\n",
       "      <th>2</th>\n",
       "      <td>20937087</td>\n",
       "      <td>48fabe3f-0fbd-4145-a917-83d164d6386f</td>\n",
       "      <td>Radiate</td>\n",
       "    </tr>\n",
       "    <tr>\n",
       "      <th>3</th>\n",
       "      <td>11</td>\n",
       "      <td>b30b9943-9100-4d84-9ad2-69859ea88fbb</td>\n",
       "      <td>Five Man Army</td>\n",
       "    </tr>\n",
       "    <tr>\n",
       "      <th>4</th>\n",
       "      <td>20937088</td>\n",
       "      <td>b55f1db3-c6d2-4645-b908-03e1017a99c2</td>\n",
       "      <td>Kalighata (Rain Clouds)</td>\n",
       "    </tr>\n",
       "  </tbody>\n",
       "</table>\n",
       "</div>"
      ],
      "text/plain": [
       "         id                                   gid                     name\n",
       "0  20937085  0f42ab32-22cd-4dcf-927b-a8d9a183d68b           Travelling Man\n",
       "1  20937086  4dce8f93-45ee-4573-8558-8cd321256233                  Live Up\n",
       "2  20937087  48fabe3f-0fbd-4145-a917-83d164d6386f                  Radiate\n",
       "3        11  b30b9943-9100-4d84-9ad2-69859ea88fbb            Five Man Army\n",
       "4  20937088  b55f1db3-c6d2-4645-b908-03e1017a99c2  Kalighata (Rain Clouds)"
      ]
     },
     "execution_count": 2,
     "metadata": {},
     "output_type": "execute_result"
    }
   ],
   "source": [
    "recording = pd.read_table('mbdump/recording', \n",
    "                      header=None, \n",
    "                      sep='\\t', \n",
    "                      na_values=['\\\\N',''],\n",
    "                      usecols=[0,1,2],\n",
    "                      error_bad_lines=False)\n",
    "recording = recording.rename(columns={0:'id', 1:'gid', 2:'name'})\n",
    "\n",
    "recording.head()"
   ]
  },
  {
   "cell_type": "markdown",
   "metadata": {},
   "source": [
    "### Recording Tags\n",
    "\n",
    "Recording tags merges with the Recording table on 'rec_id' from Recording Tags to 'id' on Recording. We'll need the count column as that will be needed for sample weighting and to determine probability"
   ]
  },
  {
   "cell_type": "code",
   "execution_count": 3,
   "metadata": {},
   "outputs": [
    {
     "data": {
      "text/html": [
       "<div>\n",
       "<style scoped>\n",
       "    .dataframe tbody tr th:only-of-type {\n",
       "        vertical-align: middle;\n",
       "    }\n",
       "\n",
       "    .dataframe tbody tr th {\n",
       "        vertical-align: top;\n",
       "    }\n",
       "\n",
       "    .dataframe thead th {\n",
       "        text-align: right;\n",
       "    }\n",
       "</style>\n",
       "<table border=\"1\" class=\"dataframe\">\n",
       "  <thead>\n",
       "    <tr style=\"text-align: right;\">\n",
       "      <th></th>\n",
       "      <th>rec_id</th>\n",
       "      <th>tag_id</th>\n",
       "      <th>count</th>\n",
       "    </tr>\n",
       "  </thead>\n",
       "  <tbody>\n",
       "    <tr>\n",
       "      <th>0</th>\n",
       "      <td>721946</td>\n",
       "      <td>560</td>\n",
       "      <td>1</td>\n",
       "    </tr>\n",
       "    <tr>\n",
       "      <th>1</th>\n",
       "      <td>3065760</td>\n",
       "      <td>150</td>\n",
       "      <td>1</td>\n",
       "    </tr>\n",
       "    <tr>\n",
       "      <th>2</th>\n",
       "      <td>1335889</td>\n",
       "      <td>609</td>\n",
       "      <td>1</td>\n",
       "    </tr>\n",
       "    <tr>\n",
       "      <th>3</th>\n",
       "      <td>4348115</td>\n",
       "      <td>35626</td>\n",
       "      <td>1</td>\n",
       "    </tr>\n",
       "    <tr>\n",
       "      <th>4</th>\n",
       "      <td>12671911</td>\n",
       "      <td>127</td>\n",
       "      <td>1</td>\n",
       "    </tr>\n",
       "  </tbody>\n",
       "</table>\n",
       "</div>"
      ],
      "text/plain": [
       "     rec_id  tag_id  count\n",
       "0    721946     560      1\n",
       "1   3065760     150      1\n",
       "2   1335889     609      1\n",
       "3   4348115   35626      1\n",
       "4  12671911     127      1"
      ]
     },
     "execution_count": 3,
     "metadata": {},
     "output_type": "execute_result"
    }
   ],
   "source": [
    "rec_tag = pd.read_table('mbdump/recording_tag', header=None, usecols=[0,1,2])\n",
    "rec_tag = rec_tag.rename(columns = {0:'rec_id', 1:'tag_id', 2:'count'})\n",
    "rec_tag.head()"
   ]
  },
  {
   "cell_type": "markdown",
   "metadata": {},
   "source": [
    "### Tags Table\n",
    "This contains the user tags to a recording which contains genres but also other information. This table merges on 'tag_id'"
   ]
  },
  {
   "cell_type": "code",
   "execution_count": 4,
   "metadata": {},
   "outputs": [
    {
     "data": {
      "text/html": [
       "<div>\n",
       "<style scoped>\n",
       "    .dataframe tbody tr th:only-of-type {\n",
       "        vertical-align: middle;\n",
       "    }\n",
       "\n",
       "    .dataframe tbody tr th {\n",
       "        vertical-align: top;\n",
       "    }\n",
       "\n",
       "    .dataframe thead th {\n",
       "        text-align: right;\n",
       "    }\n",
       "</style>\n",
       "<table border=\"1\" class=\"dataframe\">\n",
       "  <thead>\n",
       "    <tr style=\"text-align: right;\">\n",
       "      <th></th>\n",
       "      <th>tag_id</th>\n",
       "      <th>tag_name</th>\n",
       "    </tr>\n",
       "  </thead>\n",
       "  <tbody>\n",
       "    <tr>\n",
       "      <th>0</th>\n",
       "      <td>95</td>\n",
       "      <td>finnish</td>\n",
       "    </tr>\n",
       "    <tr>\n",
       "      <th>1</th>\n",
       "      <td>23</td>\n",
       "      <td>slovak</td>\n",
       "    </tr>\n",
       "    <tr>\n",
       "      <th>2</th>\n",
       "      <td>801</td>\n",
       "      <td>iowa</td>\n",
       "    </tr>\n",
       "    <tr>\n",
       "      <th>3</th>\n",
       "      <td>4</td>\n",
       "      <td>groundbreaking</td>\n",
       "    </tr>\n",
       "    <tr>\n",
       "      <th>4</th>\n",
       "      <td>130</td>\n",
       "      <td>taiwanese</td>\n",
       "    </tr>\n",
       "  </tbody>\n",
       "</table>\n",
       "</div>"
      ],
      "text/plain": [
       "   tag_id        tag_name\n",
       "0      95         finnish\n",
       "1      23          slovak\n",
       "2     801            iowa\n",
       "3       4  groundbreaking\n",
       "4     130       taiwanese"
      ]
     },
     "execution_count": 4,
     "metadata": {},
     "output_type": "execute_result"
    }
   ],
   "source": [
    "tag = pd.read_table('mbdump/tag', header=None, usecols=[0,1]).rename(columns = {0: 'tag_id', 1: 'tag_name'})\n",
    "tag.head()"
   ]
  },
  {
   "cell_type": "markdown",
   "metadata": {},
   "source": [
    "### Genre Tags\n",
    "This is a list of all the genres"
   ]
  },
  {
   "cell_type": "code",
   "execution_count": 5,
   "metadata": {},
   "outputs": [
    {
     "data": {
      "text/html": [
       "<div>\n",
       "<style scoped>\n",
       "    .dataframe tbody tr th:only-of-type {\n",
       "        vertical-align: middle;\n",
       "    }\n",
       "\n",
       "    .dataframe tbody tr th {\n",
       "        vertical-align: top;\n",
       "    }\n",
       "\n",
       "    .dataframe thead th {\n",
       "        text-align: right;\n",
       "    }\n",
       "</style>\n",
       "<table border=\"1\" class=\"dataframe\">\n",
       "  <thead>\n",
       "    <tr style=\"text-align: right;\">\n",
       "      <th></th>\n",
       "      <th>genre</th>\n",
       "    </tr>\n",
       "  </thead>\n",
       "  <tbody>\n",
       "    <tr>\n",
       "      <th>0</th>\n",
       "      <td>acid house</td>\n",
       "    </tr>\n",
       "    <tr>\n",
       "      <th>1</th>\n",
       "      <td>acid jazz</td>\n",
       "    </tr>\n",
       "    <tr>\n",
       "      <th>2</th>\n",
       "      <td>acid techno</td>\n",
       "    </tr>\n",
       "    <tr>\n",
       "      <th>3</th>\n",
       "      <td>acoustic blues</td>\n",
       "    </tr>\n",
       "    <tr>\n",
       "      <th>4</th>\n",
       "      <td>acoustic rock</td>\n",
       "    </tr>\n",
       "  </tbody>\n",
       "</table>\n",
       "</div>"
      ],
      "text/plain": [
       "            genre\n",
       "0      acid house\n",
       "1       acid jazz\n",
       "2     acid techno\n",
       "3  acoustic blues\n",
       "4   acoustic rock"
      ]
     },
     "execution_count": 5,
     "metadata": {},
     "output_type": "execute_result"
    }
   ],
   "source": [
    "genre_tag = pd.read_table('mbdump/genre', header=None, usecols=[2]).rename(columns = {2:'genre'})\n",
    "genre_tag.head()"
   ]
  },
  {
   "cell_type": "markdown",
   "metadata": {},
   "source": [
    "## Joining all the tables\n",
    "1. First we make an inner join on tags to only get the tags that are a genre and remove genres that have no tag id\n",
    "1. Then we merge the data to the recording tags\n",
    "1. Then to Recording Table and we now have every song associated with a genre"
   ]
  },
  {
   "cell_type": "code",
   "execution_count": 6,
   "metadata": {},
   "outputs": [
    {
     "name": "stdout",
     "output_type": "stream",
     "text": [
      "768714\n"
     ]
    },
    {
     "data": {
      "text/html": [
       "<div>\n",
       "<style scoped>\n",
       "    .dataframe tbody tr th:only-of-type {\n",
       "        vertical-align: middle;\n",
       "    }\n",
       "\n",
       "    .dataframe tbody tr th {\n",
       "        vertical-align: top;\n",
       "    }\n",
       "\n",
       "    .dataframe thead th {\n",
       "        text-align: right;\n",
       "    }\n",
       "</style>\n",
       "<table border=\"1\" class=\"dataframe\">\n",
       "  <thead>\n",
       "    <tr style=\"text-align: right;\">\n",
       "      <th></th>\n",
       "      <th>id</th>\n",
       "      <th>gid</th>\n",
       "      <th>name</th>\n",
       "      <th>rec_id</th>\n",
       "      <th>tag_id</th>\n",
       "      <th>count</th>\n",
       "      <th>tag_name</th>\n",
       "      <th>genre</th>\n",
       "    </tr>\n",
       "  </thead>\n",
       "  <tbody>\n",
       "    <tr>\n",
       "      <th>0</th>\n",
       "      <td>11.0</td>\n",
       "      <td>b30b9943-9100-4d84-9ad2-69859ea88fbb</td>\n",
       "      <td>Five Man Army</td>\n",
       "      <td>11.0</td>\n",
       "      <td>77</td>\n",
       "      <td>0.0</td>\n",
       "      <td>house</td>\n",
       "      <td>house</td>\n",
       "    </tr>\n",
       "    <tr>\n",
       "      <th>1</th>\n",
       "      <td>11.0</td>\n",
       "      <td>b30b9943-9100-4d84-9ad2-69859ea88fbb</td>\n",
       "      <td>Five Man Army</td>\n",
       "      <td>11.0</td>\n",
       "      <td>20</td>\n",
       "      <td>0.0</td>\n",
       "      <td>alternative rock</td>\n",
       "      <td>alternative rock</td>\n",
       "    </tr>\n",
       "    <tr>\n",
       "      <th>2</th>\n",
       "      <td>11.0</td>\n",
       "      <td>b30b9943-9100-4d84-9ad2-69859ea88fbb</td>\n",
       "      <td>Five Man Army</td>\n",
       "      <td>11.0</td>\n",
       "      <td>559</td>\n",
       "      <td>1.0</td>\n",
       "      <td>electronica</td>\n",
       "      <td>electronica</td>\n",
       "    </tr>\n",
       "    <tr>\n",
       "      <th>3</th>\n",
       "      <td>11.0</td>\n",
       "      <td>b30b9943-9100-4d84-9ad2-69859ea88fbb</td>\n",
       "      <td>Five Man Army</td>\n",
       "      <td>11.0</td>\n",
       "      <td>12</td>\n",
       "      <td>2.0</td>\n",
       "      <td>downtempo</td>\n",
       "      <td>downtempo</td>\n",
       "    </tr>\n",
       "    <tr>\n",
       "      <th>4</th>\n",
       "      <td>11.0</td>\n",
       "      <td>b30b9943-9100-4d84-9ad2-69859ea88fbb</td>\n",
       "      <td>Five Man Army</td>\n",
       "      <td>11.0</td>\n",
       "      <td>11</td>\n",
       "      <td>2.0</td>\n",
       "      <td>electronic</td>\n",
       "      <td>electronic</td>\n",
       "    </tr>\n",
       "    <tr>\n",
       "      <th>5</th>\n",
       "      <td>11.0</td>\n",
       "      <td>b30b9943-9100-4d84-9ad2-69859ea88fbb</td>\n",
       "      <td>Five Man Army</td>\n",
       "      <td>11.0</td>\n",
       "      <td>1498</td>\n",
       "      <td>3.0</td>\n",
       "      <td>trip hop</td>\n",
       "      <td>trip hop</td>\n",
       "    </tr>\n",
       "    <tr>\n",
       "      <th>6</th>\n",
       "      <td>11.0</td>\n",
       "      <td>b30b9943-9100-4d84-9ad2-69859ea88fbb</td>\n",
       "      <td>Five Man Army</td>\n",
       "      <td>11.0</td>\n",
       "      <td>1222</td>\n",
       "      <td>2.0</td>\n",
       "      <td>alternative dance</td>\n",
       "      <td>alternative dance</td>\n",
       "    </tr>\n",
       "    <tr>\n",
       "      <th>7</th>\n",
       "      <td>17.0</td>\n",
       "      <td>c5355127-7a0c-428a-bd39-e5b3e83250f7</td>\n",
       "      <td>Lately</td>\n",
       "      <td>17.0</td>\n",
       "      <td>77</td>\n",
       "      <td>0.0</td>\n",
       "      <td>house</td>\n",
       "      <td>house</td>\n",
       "    </tr>\n",
       "    <tr>\n",
       "      <th>8</th>\n",
       "      <td>17.0</td>\n",
       "      <td>c5355127-7a0c-428a-bd39-e5b3e83250f7</td>\n",
       "      <td>Lately</td>\n",
       "      <td>17.0</td>\n",
       "      <td>559</td>\n",
       "      <td>1.0</td>\n",
       "      <td>electronica</td>\n",
       "      <td>electronica</td>\n",
       "    </tr>\n",
       "    <tr>\n",
       "      <th>9</th>\n",
       "      <td>17.0</td>\n",
       "      <td>c5355127-7a0c-428a-bd39-e5b3e83250f7</td>\n",
       "      <td>Lately</td>\n",
       "      <td>17.0</td>\n",
       "      <td>12</td>\n",
       "      <td>1.0</td>\n",
       "      <td>downtempo</td>\n",
       "      <td>downtempo</td>\n",
       "    </tr>\n",
       "  </tbody>\n",
       "</table>\n",
       "</div>"
      ],
      "text/plain": [
       "     id                                   gid           name  rec_id  tag_id  \\\n",
       "0  11.0  b30b9943-9100-4d84-9ad2-69859ea88fbb  Five Man Army    11.0      77   \n",
       "1  11.0  b30b9943-9100-4d84-9ad2-69859ea88fbb  Five Man Army    11.0      20   \n",
       "2  11.0  b30b9943-9100-4d84-9ad2-69859ea88fbb  Five Man Army    11.0     559   \n",
       "3  11.0  b30b9943-9100-4d84-9ad2-69859ea88fbb  Five Man Army    11.0      12   \n",
       "4  11.0  b30b9943-9100-4d84-9ad2-69859ea88fbb  Five Man Army    11.0      11   \n",
       "5  11.0  b30b9943-9100-4d84-9ad2-69859ea88fbb  Five Man Army    11.0    1498   \n",
       "6  11.0  b30b9943-9100-4d84-9ad2-69859ea88fbb  Five Man Army    11.0    1222   \n",
       "7  17.0  c5355127-7a0c-428a-bd39-e5b3e83250f7         Lately    17.0      77   \n",
       "8  17.0  c5355127-7a0c-428a-bd39-e5b3e83250f7         Lately    17.0     559   \n",
       "9  17.0  c5355127-7a0c-428a-bd39-e5b3e83250f7         Lately    17.0      12   \n",
       "\n",
       "   count           tag_name              genre  \n",
       "0    0.0              house              house  \n",
       "1    0.0   alternative rock   alternative rock  \n",
       "2    1.0        electronica        electronica  \n",
       "3    2.0          downtempo          downtempo  \n",
       "4    2.0         electronic         electronic  \n",
       "5    3.0           trip hop           trip hop  \n",
       "6    2.0  alternative dance  alternative dance  \n",
       "7    0.0              house              house  \n",
       "8    1.0        electronica        electronica  \n",
       "9    1.0          downtempo          downtempo  "
      ]
     },
     "execution_count": 6,
     "metadata": {},
     "output_type": "execute_result"
    }
   ],
   "source": [
    "newdata = tag.merge(genre_tag, how='inner', left_on='tag_name', right_on='genre')\n",
    "newdata = rec_tag.merge(newdata, how='right', left_on='tag_id', right_on='tag_id')\n",
    "newdata = recording.merge(newdata, how='right', left_on='id', right_on='rec_id')\n",
    "newdata = newdata.dropna()\n",
    "print(len(newdata))\n",
    "newdata.head(10)"
   ]
  },
  {
   "cell_type": "markdown",
   "metadata": {},
   "source": [
    "#### Exporting the table\n",
    "The following data will be saved in case we need it.   \n",
    "we also don't need the genres with count of 0 or less (people can vote down into the negatives)"
   ]
  },
  {
   "cell_type": "code",
   "execution_count": 7,
   "metadata": {},
   "outputs": [],
   "source": [
    "newdata = newdata[newdata['count']>0]"
   ]
  },
  {
   "cell_type": "code",
   "execution_count": 8,
   "metadata": {},
   "outputs": [],
   "source": [
    "#commented out as we already have the data\n",
    "\n",
    "#export = newdata.drop(columns=['id','name','rec_id','tag_id', 'tag_name'])\n",
    "#export.to_parquet('reportfiles/basic_genre.parquet', compression='snappy')"
   ]
  },
  {
   "cell_type": "markdown",
   "metadata": {},
   "source": [
    "## Processing the new Table\n",
    "We now have to wrangle the new data so we can use the genres as a target. The basic_genre just associates a song with a genre and there may be more than one genre to a song"
   ]
  },
  {
   "cell_type": "code",
   "execution_count": 4,
   "metadata": {},
   "outputs": [
    {
     "data": {
      "text/html": [
       "<div>\n",
       "<style scoped>\n",
       "    .dataframe tbody tr th:only-of-type {\n",
       "        vertical-align: middle;\n",
       "    }\n",
       "\n",
       "    .dataframe tbody tr th {\n",
       "        vertical-align: top;\n",
       "    }\n",
       "\n",
       "    .dataframe thead th {\n",
       "        text-align: right;\n",
       "    }\n",
       "</style>\n",
       "<table border=\"1\" class=\"dataframe\">\n",
       "  <thead>\n",
       "    <tr style=\"text-align: right;\">\n",
       "      <th></th>\n",
       "      <th>gid</th>\n",
       "      <th>count</th>\n",
       "      <th>genre</th>\n",
       "    </tr>\n",
       "  </thead>\n",
       "  <tbody>\n",
       "    <tr>\n",
       "      <th>2</th>\n",
       "      <td>b30b9943-9100-4d84-9ad2-69859ea88fbb</td>\n",
       "      <td>1.0</td>\n",
       "      <td>electronica</td>\n",
       "    </tr>\n",
       "    <tr>\n",
       "      <th>3</th>\n",
       "      <td>b30b9943-9100-4d84-9ad2-69859ea88fbb</td>\n",
       "      <td>2.0</td>\n",
       "      <td>downtempo</td>\n",
       "    </tr>\n",
       "    <tr>\n",
       "      <th>4</th>\n",
       "      <td>b30b9943-9100-4d84-9ad2-69859ea88fbb</td>\n",
       "      <td>2.0</td>\n",
       "      <td>electronic</td>\n",
       "    </tr>\n",
       "    <tr>\n",
       "      <th>5</th>\n",
       "      <td>b30b9943-9100-4d84-9ad2-69859ea88fbb</td>\n",
       "      <td>3.0</td>\n",
       "      <td>trip hop</td>\n",
       "    </tr>\n",
       "    <tr>\n",
       "      <th>6</th>\n",
       "      <td>b30b9943-9100-4d84-9ad2-69859ea88fbb</td>\n",
       "      <td>2.0</td>\n",
       "      <td>alternative dance</td>\n",
       "    </tr>\n",
       "  </tbody>\n",
       "</table>\n",
       "</div>"
      ],
      "text/plain": [
       "                                    gid  count              genre\n",
       "2  b30b9943-9100-4d84-9ad2-69859ea88fbb    1.0        electronica\n",
       "3  b30b9943-9100-4d84-9ad2-69859ea88fbb    2.0          downtempo\n",
       "4  b30b9943-9100-4d84-9ad2-69859ea88fbb    2.0         electronic\n",
       "5  b30b9943-9100-4d84-9ad2-69859ea88fbb    3.0           trip hop\n",
       "6  b30b9943-9100-4d84-9ad2-69859ea88fbb    2.0  alternative dance"
      ]
     },
     "execution_count": 4,
     "metadata": {},
     "output_type": "execute_result"
    }
   ],
   "source": [
    "newdata = pd.read_parquet('reportfiles/basic_genre.parquet')\n",
    "newdata.head()"
   ]
  },
  {
   "cell_type": "markdown",
   "metadata": {},
   "source": [
    "With the data that we have let's convert the genres to categorical numbers. I could have done this in the beginning with the genre table and that would have future proofed the code in the event that songs are added to genres not assigned or have votes of 0, but for simplicity let's get the ones that have a song associated with them for now. Having a smaller amount of genres might make it easier when we do use them in machine learning tasks."
   ]
  },
  {
   "cell_type": "code",
   "execution_count": 10,
   "metadata": {},
   "outputs": [],
   "source": [
    "#we'll make a new column as well for the genre codes\n",
    "\n",
    "newdata['genre_id'] = pd.Categorical(newdata['genre'])\n",
    "newdata['genre_id'] = newdata.genre_id.cat.codes\n",
    "genredict = dict(enumerate(pd.Categorical(newdata['genre']).categories))\n",
    "\n",
    "#print(genredict)"
   ]
  },
  {
   "cell_type": "code",
   "execution_count": 11,
   "metadata": {},
   "outputs": [
    {
     "data": {
      "text/html": [
       "<div>\n",
       "<style scoped>\n",
       "    .dataframe tbody tr th:only-of-type {\n",
       "        vertical-align: middle;\n",
       "    }\n",
       "\n",
       "    .dataframe tbody tr th {\n",
       "        vertical-align: top;\n",
       "    }\n",
       "\n",
       "    .dataframe thead th {\n",
       "        text-align: right;\n",
       "    }\n",
       "</style>\n",
       "<table border=\"1\" class=\"dataframe\">\n",
       "  <thead>\n",
       "    <tr style=\"text-align: right;\">\n",
       "      <th></th>\n",
       "      <th>gid</th>\n",
       "      <th>count</th>\n",
       "      <th>genre</th>\n",
       "      <th>genre_id</th>\n",
       "    </tr>\n",
       "  </thead>\n",
       "  <tbody>\n",
       "    <tr>\n",
       "      <th>2</th>\n",
       "      <td>b30b9943-9100-4d84-9ad2-69859ea88fbb</td>\n",
       "      <td>1.0</td>\n",
       "      <td>electronica</td>\n",
       "      <td>123</td>\n",
       "    </tr>\n",
       "    <tr>\n",
       "      <th>3</th>\n",
       "      <td>b30b9943-9100-4d84-9ad2-69859ea88fbb</td>\n",
       "      <td>2.0</td>\n",
       "      <td>downtempo</td>\n",
       "      <td>105</td>\n",
       "    </tr>\n",
       "    <tr>\n",
       "      <th>4</th>\n",
       "      <td>b30b9943-9100-4d84-9ad2-69859ea88fbb</td>\n",
       "      <td>2.0</td>\n",
       "      <td>electronic</td>\n",
       "      <td>121</td>\n",
       "    </tr>\n",
       "    <tr>\n",
       "      <th>5</th>\n",
       "      <td>b30b9943-9100-4d84-9ad2-69859ea88fbb</td>\n",
       "      <td>3.0</td>\n",
       "      <td>trip hop</td>\n",
       "      <td>380</td>\n",
       "    </tr>\n",
       "    <tr>\n",
       "      <th>6</th>\n",
       "      <td>b30b9943-9100-4d84-9ad2-69859ea88fbb</td>\n",
       "      <td>2.0</td>\n",
       "      <td>alternative dance</td>\n",
       "      <td>7</td>\n",
       "    </tr>\n",
       "  </tbody>\n",
       "</table>\n",
       "</div>"
      ],
      "text/plain": [
       "                                    gid  count              genre  genre_id\n",
       "2  b30b9943-9100-4d84-9ad2-69859ea88fbb    1.0        electronica       123\n",
       "3  b30b9943-9100-4d84-9ad2-69859ea88fbb    2.0          downtempo       105\n",
       "4  b30b9943-9100-4d84-9ad2-69859ea88fbb    2.0         electronic       121\n",
       "5  b30b9943-9100-4d84-9ad2-69859ea88fbb    3.0           trip hop       380\n",
       "6  b30b9943-9100-4d84-9ad2-69859ea88fbb    2.0  alternative dance         7"
      ]
     },
     "execution_count": 11,
     "metadata": {},
     "output_type": "execute_result"
    }
   ],
   "source": [
    "newdata.head()"
   ]
  },
  {
   "cell_type": "markdown",
   "metadata": {},
   "source": [
    "Now let's export the json"
   ]
  },
  {
   "cell_type": "code",
   "execution_count": 12,
   "metadata": {},
   "outputs": [],
   "source": [
    "#with open('reportfiles/final_genredict.json', 'w') as outfile:\n",
    "#    json.dump(genredict, outfile)"
   ]
  },
  {
   "cell_type": "code",
   "execution_count": 13,
   "metadata": {},
   "outputs": [],
   "source": [
    "with open('reportfiles/final_genredict.json') as j:\n",
    "    genredict = json.load(j)"
   ]
  },
  {
   "cell_type": "markdown",
   "metadata": {},
   "source": [
    "Now going forward we can do two things. Get the genre with the most \"counts\" or votes and assign that as the main genre or we can encode the genre as a categorical variable and encode the number to the index of a list. The latter is necessary for deep learning operations, but I will be going further than onehot encoding. I will use the \"counts\" of each genre of a given song as a probability and encode that into the list. First let's get the max count genre for each song and assign that as the \"main\" genre."
   ]
  },
  {
   "cell_type": "markdown",
   "metadata": {},
   "source": [
    "### Get Main Genre\n",
    "Here I'm getting all the columns that are the max of each count. Although I ended up not really having to use this. \n",
    "I'm using numpy.random.choice to select the ones that are tied."
   ]
  },
  {
   "cell_type": "code",
   "execution_count": 14,
   "metadata": {},
   "outputs": [
    {
     "data": {
      "text/html": [
       "<div>\n",
       "<style scoped>\n",
       "    .dataframe tbody tr th:only-of-type {\n",
       "        vertical-align: middle;\n",
       "    }\n",
       "\n",
       "    .dataframe tbody tr th {\n",
       "        vertical-align: top;\n",
       "    }\n",
       "\n",
       "    .dataframe thead th {\n",
       "        text-align: right;\n",
       "    }\n",
       "</style>\n",
       "<table border=\"1\" class=\"dataframe\">\n",
       "  <thead>\n",
       "    <tr style=\"text-align: right;\">\n",
       "      <th></th>\n",
       "      <th>gid</th>\n",
       "      <th>count</th>\n",
       "      <th>genre</th>\n",
       "      <th>genre_id</th>\n",
       "    </tr>\n",
       "  </thead>\n",
       "  <tbody>\n",
       "    <tr>\n",
       "      <th>0</th>\n",
       "      <td>00000baf-9215-483a-8900-93756eaf1cfc</td>\n",
       "      <td>1.0</td>\n",
       "      <td>folk rock</td>\n",
       "      <td>142</td>\n",
       "    </tr>\n",
       "    <tr>\n",
       "      <th>1</th>\n",
       "      <td>000026d2-8db1-42b1-87da-e4389dcd6093</td>\n",
       "      <td>1.0</td>\n",
       "      <td>house</td>\n",
       "      <td>191</td>\n",
       "    </tr>\n",
       "    <tr>\n",
       "      <th>2</th>\n",
       "      <td>00007908-1fff-415d-8e87-a49722c2442b</td>\n",
       "      <td>1.0</td>\n",
       "      <td>country</td>\n",
       "      <td>80</td>\n",
       "    </tr>\n",
       "    <tr>\n",
       "      <th>3</th>\n",
       "      <td>00007960-9d81-4192-b548-ad33d6b0ca54</td>\n",
       "      <td>3.0</td>\n",
       "      <td>rock</td>\n",
       "      <td>325</td>\n",
       "    </tr>\n",
       "    <tr>\n",
       "      <th>4</th>\n",
       "      <td>00007bab-7268-41c4-9d5c-c335c3a26f7c</td>\n",
       "      <td>1.0</td>\n",
       "      <td>dance</td>\n",
       "      <td>86</td>\n",
       "    </tr>\n",
       "  </tbody>\n",
       "</table>\n",
       "</div>"
      ],
      "text/plain": [
       "                                    gid  count      genre  genre_id\n",
       "0  00000baf-9215-483a-8900-93756eaf1cfc    1.0  folk rock       142\n",
       "1  000026d2-8db1-42b1-87da-e4389dcd6093    1.0      house       191\n",
       "2  00007908-1fff-415d-8e87-a49722c2442b    1.0    country        80\n",
       "3  00007960-9d81-4192-b548-ad33d6b0ca54    3.0       rock       325\n",
       "4  00007bab-7268-41c4-9d5c-c335c3a26f7c    1.0      dance        86"
      ]
     },
     "execution_count": 14,
     "metadata": {},
     "output_type": "execute_result"
    }
   ],
   "source": [
    "idx = newdata.groupby(['gid'])['count'].transform(max) == newdata['count']\n",
    "maingenre = newdata[idx]\n",
    "\n",
    "maingenre = maingenre.groupby('gid').agg(np.random.choice)\n",
    "maingenre = maingenre.reset_index()\n",
    "maingenre.head()"
   ]
  },
  {
   "cell_type": "markdown",
   "metadata": {},
   "source": [
    "Let's export this if we need it"
   ]
  },
  {
   "cell_type": "code",
   "execution_count": 15,
   "metadata": {},
   "outputs": [],
   "source": [
    "#maingenre.to_parquet('reportfiles/main_genre.parquet', compression='snappy')"
   ]
  },
  {
   "cell_type": "code",
   "execution_count": 16,
   "metadata": {},
   "outputs": [],
   "source": [
    "maingenre = pd.read_parquet('reportfiles/main_genre.parquet')"
   ]
  },
  {
   "cell_type": "markdown",
   "metadata": {},
   "source": [
    "### Get the genres into an encoding table\n",
    "In order to deal with multigenres we need to encode the genres into a list. So for a given song with multiple genre associations it would have numbers at the indices that are associated with the genres. of course these numbers aren't just ones, they are the \"votes\" and the list will be normalized with repect to these counts. This will give us the probabilities for the genres for use in categorical classification.\n",
    "\n",
    "for example we need a song to have the target [0, 0, 0, 0, 0, 0, 0.2, 0, 0, 0.2, 0.6, 0, 0, ...] where the numbers are the probability/proportion of user votes and the indexes are the associated genres.\n",
    "\n",
    "The total votes for a song will be summed as well since that could be used to weight the samples. If a song has a one vote for a genre it might not be too reliable or accurate. So the more people have voted for a genre tag in a song the more accurate I assume the genre tag to be.\n",
    "\n",
    "I named the column \"cross\" or \"cat_cross\" because categorical cross entropy will be calculated from it later when I  perform training on the deep neural network"
   ]
  },
  {
   "cell_type": "code",
   "execution_count": 17,
   "metadata": {},
   "outputs": [],
   "source": [
    "encgenre = newdata.copy()"
   ]
  },
  {
   "cell_type": "code",
   "execution_count": 18,
   "metadata": {},
   "outputs": [],
   "source": [
    "conf = 1 #This conf value will artificially inflate the significance of \n",
    "        #the most popular genre but I will just set it to one\n",
    "\n",
    "def catcross_list(df, conf):\n",
    "    crosslist = []\n",
    "    num_genre = len(np.unique(df['genre_id']))\n",
    "    #print(num_genre)\n",
    "    for row in df.itertuples():\n",
    "        empt = np.zeros(num_genre)\n",
    "        #There probably is a better way to implement this but I only need to do this once\n",
    "        empt[row.genre_id] = row.count**conf\n",
    "        crosslist.append(empt)\n",
    "    return crosslist"
   ]
  },
  {
   "cell_type": "code",
   "execution_count": 19,
   "metadata": {},
   "outputs": [
    {
     "data": {
      "text/html": [
       "<div>\n",
       "<style scoped>\n",
       "    .dataframe tbody tr th:only-of-type {\n",
       "        vertical-align: middle;\n",
       "    }\n",
       "\n",
       "    .dataframe tbody tr th {\n",
       "        vertical-align: top;\n",
       "    }\n",
       "\n",
       "    .dataframe thead th {\n",
       "        text-align: right;\n",
       "    }\n",
       "</style>\n",
       "<table border=\"1\" class=\"dataframe\">\n",
       "  <thead>\n",
       "    <tr style=\"text-align: right;\">\n",
       "      <th></th>\n",
       "      <th>gid</th>\n",
       "      <th>cross</th>\n",
       "    </tr>\n",
       "  </thead>\n",
       "  <tbody>\n",
       "    <tr>\n",
       "      <th>2</th>\n",
       "      <td>b30b9943-9100-4d84-9ad2-69859ea88fbb</td>\n",
       "      <td>[0.0, 0.0, 0.0, 0.0, 0.0, 0.0, 0.0, 0.0, 0.0, ...</td>\n",
       "    </tr>\n",
       "    <tr>\n",
       "      <th>3</th>\n",
       "      <td>b30b9943-9100-4d84-9ad2-69859ea88fbb</td>\n",
       "      <td>[0.0, 0.0, 0.0, 0.0, 0.0, 0.0, 0.0, 0.0, 0.0, ...</td>\n",
       "    </tr>\n",
       "    <tr>\n",
       "      <th>4</th>\n",
       "      <td>b30b9943-9100-4d84-9ad2-69859ea88fbb</td>\n",
       "      <td>[0.0, 0.0, 0.0, 0.0, 0.0, 0.0, 0.0, 0.0, 0.0, ...</td>\n",
       "    </tr>\n",
       "    <tr>\n",
       "      <th>5</th>\n",
       "      <td>b30b9943-9100-4d84-9ad2-69859ea88fbb</td>\n",
       "      <td>[0.0, 0.0, 0.0, 0.0, 0.0, 0.0, 0.0, 0.0, 0.0, ...</td>\n",
       "    </tr>\n",
       "    <tr>\n",
       "      <th>6</th>\n",
       "      <td>b30b9943-9100-4d84-9ad2-69859ea88fbb</td>\n",
       "      <td>[0.0, 0.0, 0.0, 0.0, 0.0, 0.0, 0.0, 2.0, 0.0, ...</td>\n",
       "    </tr>\n",
       "  </tbody>\n",
       "</table>\n",
       "</div>"
      ],
      "text/plain": [
       "                                    gid  \\\n",
       "2  b30b9943-9100-4d84-9ad2-69859ea88fbb   \n",
       "3  b30b9943-9100-4d84-9ad2-69859ea88fbb   \n",
       "4  b30b9943-9100-4d84-9ad2-69859ea88fbb   \n",
       "5  b30b9943-9100-4d84-9ad2-69859ea88fbb   \n",
       "6  b30b9943-9100-4d84-9ad2-69859ea88fbb   \n",
       "\n",
       "                                               cross  \n",
       "2  [0.0, 0.0, 0.0, 0.0, 0.0, 0.0, 0.0, 0.0, 0.0, ...  \n",
       "3  [0.0, 0.0, 0.0, 0.0, 0.0, 0.0, 0.0, 0.0, 0.0, ...  \n",
       "4  [0.0, 0.0, 0.0, 0.0, 0.0, 0.0, 0.0, 0.0, 0.0, ...  \n",
       "5  [0.0, 0.0, 0.0, 0.0, 0.0, 0.0, 0.0, 0.0, 0.0, ...  \n",
       "6  [0.0, 0.0, 0.0, 0.0, 0.0, 0.0, 0.0, 2.0, 0.0, ...  "
      ]
     },
     "execution_count": 19,
     "metadata": {},
     "output_type": "execute_result"
    }
   ],
   "source": [
    "encgenre = newdata.copy()\n",
    "encgenre['cross'] = catcross_list(encgenre, conf)\n",
    "encgenre = encgenre.drop(columns=['genre', 'genre_id', 'count'])\n",
    "encgenre.head()"
   ]
  },
  {
   "cell_type": "markdown",
   "metadata": {},
   "source": [
    "Let's export this"
   ]
  },
  {
   "cell_type": "code",
   "execution_count": null,
   "metadata": {},
   "outputs": [],
   "source": [
    "#encgenre.to_parquet('reportfiles/enc_genre.parquet', compression='snappy')"
   ]
  },
  {
   "cell_type": "code",
   "execution_count": 20,
   "metadata": {},
   "outputs": [
    {
     "name": "stdout",
     "output_type": "stream",
     "text": [
      "(760223, 2)\n"
     ]
    },
    {
     "data": {
      "text/html": [
       "<div>\n",
       "<style scoped>\n",
       "    .dataframe tbody tr th:only-of-type {\n",
       "        vertical-align: middle;\n",
       "    }\n",
       "\n",
       "    .dataframe tbody tr th {\n",
       "        vertical-align: top;\n",
       "    }\n",
       "\n",
       "    .dataframe thead th {\n",
       "        text-align: right;\n",
       "    }\n",
       "</style>\n",
       "<table border=\"1\" class=\"dataframe\">\n",
       "  <thead>\n",
       "    <tr style=\"text-align: right;\">\n",
       "      <th></th>\n",
       "      <th>gid</th>\n",
       "      <th>cross</th>\n",
       "    </tr>\n",
       "  </thead>\n",
       "  <tbody>\n",
       "    <tr>\n",
       "      <th>2</th>\n",
       "      <td>b30b9943-9100-4d84-9ad2-69859ea88fbb</td>\n",
       "      <td>[0.0, 0.0, 0.0, 0.0, 0.0, 0.0, 0.0, 0.0, 0.0, ...</td>\n",
       "    </tr>\n",
       "    <tr>\n",
       "      <th>3</th>\n",
       "      <td>b30b9943-9100-4d84-9ad2-69859ea88fbb</td>\n",
       "      <td>[0.0, 0.0, 0.0, 0.0, 0.0, 0.0, 0.0, 0.0, 0.0, ...</td>\n",
       "    </tr>\n",
       "    <tr>\n",
       "      <th>4</th>\n",
       "      <td>b30b9943-9100-4d84-9ad2-69859ea88fbb</td>\n",
       "      <td>[0.0, 0.0, 0.0, 0.0, 0.0, 0.0, 0.0, 0.0, 0.0, ...</td>\n",
       "    </tr>\n",
       "    <tr>\n",
       "      <th>5</th>\n",
       "      <td>b30b9943-9100-4d84-9ad2-69859ea88fbb</td>\n",
       "      <td>[0.0, 0.0, 0.0, 0.0, 0.0, 0.0, 0.0, 0.0, 0.0, ...</td>\n",
       "    </tr>\n",
       "    <tr>\n",
       "      <th>6</th>\n",
       "      <td>b30b9943-9100-4d84-9ad2-69859ea88fbb</td>\n",
       "      <td>[0.0, 0.0, 0.0, 0.0, 0.0, 0.0, 0.0, 2.0, 0.0, ...</td>\n",
       "    </tr>\n",
       "  </tbody>\n",
       "</table>\n",
       "</div>"
      ],
      "text/plain": [
       "                                    gid  \\\n",
       "2  b30b9943-9100-4d84-9ad2-69859ea88fbb   \n",
       "3  b30b9943-9100-4d84-9ad2-69859ea88fbb   \n",
       "4  b30b9943-9100-4d84-9ad2-69859ea88fbb   \n",
       "5  b30b9943-9100-4d84-9ad2-69859ea88fbb   \n",
       "6  b30b9943-9100-4d84-9ad2-69859ea88fbb   \n",
       "\n",
       "                                               cross  \n",
       "2  [0.0, 0.0, 0.0, 0.0, 0.0, 0.0, 0.0, 0.0, 0.0, ...  \n",
       "3  [0.0, 0.0, 0.0, 0.0, 0.0, 0.0, 0.0, 0.0, 0.0, ...  \n",
       "4  [0.0, 0.0, 0.0, 0.0, 0.0, 0.0, 0.0, 0.0, 0.0, ...  \n",
       "5  [0.0, 0.0, 0.0, 0.0, 0.0, 0.0, 0.0, 0.0, 0.0, ...  \n",
       "6  [0.0, 0.0, 0.0, 0.0, 0.0, 0.0, 0.0, 2.0, 0.0, ...  "
      ]
     },
     "execution_count": 20,
     "metadata": {},
     "output_type": "execute_result"
    }
   ],
   "source": [
    "encgenre = pd.read_parquet('reportfiles/enc_genre.parquet')\n",
    "print(encgenre.shape)\n",
    "encgenre.head()"
   ]
  },
  {
   "cell_type": "markdown",
   "metadata": {},
   "source": [
    "Column 'cross' now contains the encodings. But now we have to collapse these lists into one for each song. flattening will take too long on a single process so I submitted it to a slurm job."
   ]
  },
  {
   "cell_type": "code",
   "execution_count": 21,
   "metadata": {},
   "outputs": [],
   "source": [
    "numgenre = len(genredict)\n",
    "def collapse_cross(df, num_genre):\n",
    "    cross = []\n",
    "    indlist = []\n",
    "    ind = np.unique(df['gid'])\n",
    "    for i in ind:\n",
    "        merged = np.zeros(num_genre)\n",
    "        for j in df[df.gid == i]['cross']:\n",
    "            merged = np.add(merged, j)\n",
    "        indlist.append(i)\n",
    "        cross.append(merged)\n",
    "    return pd.DataFrame(zip(indlist, cross))"
   ]
  },
  {
   "cell_type": "markdown",
   "metadata": {},
   "source": [
    "Here's a sample of it working here"
   ]
  },
  {
   "cell_type": "code",
   "execution_count": 23,
   "metadata": {},
   "outputs": [
    {
     "name": "stdout",
     "output_type": "stream",
     "text": [
      "(55, 2) (62, 2)\n",
      "CPU times: user 102 ms, sys: 1.82 ms, total: 104 ms\n",
      "Wall time: 150 ms\n"
     ]
    },
    {
     "data": {
      "text/html": [
       "<div>\n",
       "<style scoped>\n",
       "    .dataframe tbody tr th:only-of-type {\n",
       "        vertical-align: middle;\n",
       "    }\n",
       "\n",
       "    .dataframe tbody tr th {\n",
       "        vertical-align: top;\n",
       "    }\n",
       "\n",
       "    .dataframe thead th {\n",
       "        text-align: right;\n",
       "    }\n",
       "</style>\n",
       "<table border=\"1\" class=\"dataframe\">\n",
       "  <thead>\n",
       "    <tr style=\"text-align: right;\">\n",
       "      <th></th>\n",
       "      <th>0</th>\n",
       "      <th>1</th>\n",
       "    </tr>\n",
       "  </thead>\n",
       "  <tbody>\n",
       "    <tr>\n",
       "      <th>0</th>\n",
       "      <td>032c4ce0-b1fd-442d-8bf1-b7777e4832e7</td>\n",
       "      <td>[0.0, 0.0, 0.0, 0.0, 0.0, 0.0, 0.0, 2.0, 0.0, ...</td>\n",
       "    </tr>\n",
       "    <tr>\n",
       "      <th>1</th>\n",
       "      <td>03d32aab-6041-49e8-8fc7-82f091b005d5</td>\n",
       "      <td>[0.0, 0.0, 0.0, 0.0, 0.0, 0.0, 0.0, 0.0, 0.0, ...</td>\n",
       "    </tr>\n",
       "    <tr>\n",
       "      <th>2</th>\n",
       "      <td>0bf3d0b7-c05b-49cb-b54f-da0972f92617</td>\n",
       "      <td>[0.0, 0.0, 0.0, 0.0, 0.0, 0.0, 0.0, 0.0, 0.0, ...</td>\n",
       "    </tr>\n",
       "    <tr>\n",
       "      <th>3</th>\n",
       "      <td>0f323349-6125-4c2d-8e89-0056a022503c</td>\n",
       "      <td>[0.0, 0.0, 0.0, 0.0, 0.0, 0.0, 0.0, 0.0, 0.0, ...</td>\n",
       "    </tr>\n",
       "    <tr>\n",
       "      <th>4</th>\n",
       "      <td>1cbff13a-63d7-48d0-b352-15a4575480ef</td>\n",
       "      <td>[0.0, 0.0, 0.0, 0.0, 0.0, 0.0, 0.0, 0.0, 0.0, ...</td>\n",
       "    </tr>\n",
       "  </tbody>\n",
       "</table>\n",
       "</div>"
      ],
      "text/plain": [
       "                                      0  \\\n",
       "0  032c4ce0-b1fd-442d-8bf1-b7777e4832e7   \n",
       "1  03d32aab-6041-49e8-8fc7-82f091b005d5   \n",
       "2  0bf3d0b7-c05b-49cb-b54f-da0972f92617   \n",
       "3  0f323349-6125-4c2d-8e89-0056a022503c   \n",
       "4  1cbff13a-63d7-48d0-b352-15a4575480ef   \n",
       "\n",
       "                                                   1  \n",
       "0  [0.0, 0.0, 0.0, 0.0, 0.0, 0.0, 0.0, 2.0, 0.0, ...  \n",
       "1  [0.0, 0.0, 0.0, 0.0, 0.0, 0.0, 0.0, 0.0, 0.0, ...  \n",
       "2  [0.0, 0.0, 0.0, 0.0, 0.0, 0.0, 0.0, 0.0, 0.0, ...  \n",
       "3  [0.0, 0.0, 0.0, 0.0, 0.0, 0.0, 0.0, 0.0, 0.0, ...  \n",
       "4  [0.0, 0.0, 0.0, 0.0, 0.0, 0.0, 0.0, 0.0, 0.0, ...  "
      ]
     },
     "execution_count": 23,
     "metadata": {},
     "output_type": "execute_result"
    }
   ],
   "source": [
    "%%time\n",
    "test = encgenre[0:100]\n",
    "test2 = encgenre[100:200]\n",
    "test = collapse_cross(test, 395)\n",
    "test2 = collapse_cross(test2, 395)\n",
    "\n",
    "print(test.shape, test2.shape)\n",
    "\n",
    "test3 = pd.concat([test, test2])\n",
    "test3.head()"
   ]
  },
  {
   "cell_type": "markdown",
   "metadata": {},
   "source": [
    "But we should submit it to a slurm job"
   ]
  },
  {
   "cell_type": "markdown",
   "metadata": {},
   "source": [
    "#### Slurm Job to merge the cross list\n",
    "The files are located under **reportslurms** directory"
   ]
  },
  {
   "cell_type": "code",
   "execution_count": null,
   "metadata": {},
   "outputs": [],
   "source": [
    "#!/bin/bash\n",
    "#SBATCH --time=00:40:00\n",
    "#SBATCH -N 2 \n",
    "#SBATCH -n 4 \n",
    "#SBATCH --mem=24576\n",
    "\n",
    "\n",
    ". /global/software/anaconda/anaconda-3.6-5.1.0/etc/profile.d/conda.sh\n",
    "module load python/anaconda-3.6-5.1.0\n",
    "conda activate cheinu\n",
    "\n",
    "python collapse_cross.py"
   ]
  },
  {
   "cell_type": "markdown",
   "metadata": {},
   "source": [
    "**Below are the contents of collapse_cross.py**  \n",
    "Note that gids should be clustered which they are already. There is the chance that the split may happen on a unique gid but that probability is pretty low and the resulting dataframe has unique genres only. Despite splitting the code below will take some time to run. If there are duplicates then those should be isolated and merged individually but I have not had this issue."
   ]
  },
  {
   "cell_type": "code",
   "execution_count": null,
   "metadata": {},
   "outputs": [],
   "source": [
    "import os\n",
    "import sys\n",
    "import pandas as pd\n",
    "import numpy as np \n",
    "from multiprocessing import Process, Pool, Queue, cpu_count\n",
    "\n",
    "mdf = pd.read_parquet('reportfiles/enc_genre.parquet')\n",
    "\n",
    "def collapse_cross(df, num_genre, out_q):\n",
    "\tcross = []\n",
    "\tindlist = []\n",
    "\tind = np.unique(df['gid'])\n",
    "\tfor i in ind:\n",
    "\t\tmerged = np.zeros(num_genre)\n",
    "\t\tfor j in df[df.gid == i]['cross']:\n",
    "\t\t\tmerged = np.add(merged, j)\n",
    "\t\tindlist.append(i)\n",
    "\t\tcross.append(merged)\n",
    "\tout_q.put(pd.DataFrame(zip(indlist, cross)))\n",
    "\n",
    "if __name__==\"__main__\":\n",
    "\tnproc = int(os.environ[\"SLURM_CPUS_ON_NODE\"])\n",
    "\tprocs =[]\n",
    "\t\n",
    "\tout_q = Queue()\n",
    "\tnewdf = pd.DataFrame()\n",
    "\n",
    "\tnewdata = np.array_split(mdf, nproc)\n",
    "\t\n",
    "\tfor i in range(nproc):\n",
    "\t\tp = Process(target=collapse_cross, args=(newdata[i], num_genre, out_q))\n",
    "\t\tprocs.append(p)\n",
    "\t\tp.start()\n",
    "\tfor j in range(nproc):\n",
    "\t\tnewdf = pd.concat([newdf, out_q.get()])\n",
    "\tfor p in procs:\n",
    "\t\tp.join()\n",
    "\n",
    "\tnewdf = newdf.rename(columns={0:'gid', 1:'cat_cross'})\n",
    "\tnewdf.to_parquet('cross_gen.parquet', compression = 'snappy')\n",
    "\tprint(\"process finished\")"
   ]
  },
  {
   "cell_type": "markdown",
   "metadata": {},
   "source": [
    "### Final Target"
   ]
  },
  {
   "cell_type": "markdown",
   "metadata": {},
   "source": [
    "Once we have gotten the contents let's merge everything with the sum of all the counts of the genre which will be used as sample weights"
   ]
  },
  {
   "cell_type": "code",
   "execution_count": 5,
   "metadata": {},
   "outputs": [
    {
     "name": "stdout",
     "output_type": "stream",
     "text": [
      "(530607, 2)\n"
     ]
    },
    {
     "data": {
      "text/html": [
       "<div>\n",
       "<style scoped>\n",
       "    .dataframe tbody tr th:only-of-type {\n",
       "        vertical-align: middle;\n",
       "    }\n",
       "\n",
       "    .dataframe tbody tr th {\n",
       "        vertical-align: top;\n",
       "    }\n",
       "\n",
       "    .dataframe thead th {\n",
       "        text-align: right;\n",
       "    }\n",
       "</style>\n",
       "<table border=\"1\" class=\"dataframe\">\n",
       "  <thead>\n",
       "    <tr style=\"text-align: right;\">\n",
       "      <th></th>\n",
       "      <th>gid</th>\n",
       "      <th>count</th>\n",
       "    </tr>\n",
       "  </thead>\n",
       "  <tbody>\n",
       "    <tr>\n",
       "      <th>0</th>\n",
       "      <td>00000baf-9215-483a-8900-93756eaf1cfc</td>\n",
       "      <td>1.0</td>\n",
       "    </tr>\n",
       "    <tr>\n",
       "      <th>1</th>\n",
       "      <td>000026d2-8db1-42b1-87da-e4389dcd6093</td>\n",
       "      <td>1.0</td>\n",
       "    </tr>\n",
       "    <tr>\n",
       "      <th>2</th>\n",
       "      <td>00007908-1fff-415d-8e87-a49722c2442b</td>\n",
       "      <td>1.0</td>\n",
       "    </tr>\n",
       "    <tr>\n",
       "      <th>3</th>\n",
       "      <td>00007960-9d81-4192-b548-ad33d6b0ca54</td>\n",
       "      <td>4.0</td>\n",
       "    </tr>\n",
       "    <tr>\n",
       "      <th>4</th>\n",
       "      <td>00007bab-7268-41c4-9d5c-c335c3a26f7c</td>\n",
       "      <td>1.0</td>\n",
       "    </tr>\n",
       "  </tbody>\n",
       "</table>\n",
       "</div>"
      ],
      "text/plain": [
       "                                    gid  count\n",
       "0  00000baf-9215-483a-8900-93756eaf1cfc    1.0\n",
       "1  000026d2-8db1-42b1-87da-e4389dcd6093    1.0\n",
       "2  00007908-1fff-415d-8e87-a49722c2442b    1.0\n",
       "3  00007960-9d81-4192-b548-ad33d6b0ca54    4.0\n",
       "4  00007bab-7268-41c4-9d5c-c335c3a26f7c    1.0"
      ]
     },
     "execution_count": 5,
     "metadata": {},
     "output_type": "execute_result"
    }
   ],
   "source": [
    "count_sum_genre = pd.DataFrame(newdata.groupby('gid')['count'].sum()).reset_index()\n",
    "print(count_sum_genre.shape)\n",
    "count_sum_genre.head()"
   ]
  },
  {
   "cell_type": "code",
   "execution_count": 6,
   "metadata": {},
   "outputs": [
    {
     "name": "stdout",
     "output_type": "stream",
     "text": [
      "(530609, 2)\n"
     ]
    },
    {
     "data": {
      "text/html": [
       "<div>\n",
       "<style scoped>\n",
       "    .dataframe tbody tr th:only-of-type {\n",
       "        vertical-align: middle;\n",
       "    }\n",
       "\n",
       "    .dataframe tbody tr th {\n",
       "        vertical-align: top;\n",
       "    }\n",
       "\n",
       "    .dataframe thead th {\n",
       "        text-align: right;\n",
       "    }\n",
       "</style>\n",
       "<table border=\"1\" class=\"dataframe\">\n",
       "  <thead>\n",
       "    <tr style=\"text-align: right;\">\n",
       "      <th></th>\n",
       "      <th>gid</th>\n",
       "      <th>cat_cross</th>\n",
       "    </tr>\n",
       "  </thead>\n",
       "  <tbody>\n",
       "    <tr>\n",
       "      <th>0</th>\n",
       "      <td>00000baf-9215-483a-8900-93756eaf1cfc</td>\n",
       "      <td>[0.0, 0.0, 0.0, 0.0, 0.0, 0.0, 0.0, 0.0, 0.0, ...</td>\n",
       "    </tr>\n",
       "    <tr>\n",
       "      <th>1</th>\n",
       "      <td>000026d2-8db1-42b1-87da-e4389dcd6093</td>\n",
       "      <td>[0.0, 0.0, 0.0, 0.0, 0.0, 0.0, 0.0, 0.0, 0.0, ...</td>\n",
       "    </tr>\n",
       "    <tr>\n",
       "      <th>2</th>\n",
       "      <td>00007960-9d81-4192-b548-ad33d6b0ca54</td>\n",
       "      <td>[0.0, 0.0, 0.0, 0.0, 0.0, 0.0, 0.0, 0.0, 0.0, ...</td>\n",
       "    </tr>\n",
       "    <tr>\n",
       "      <th>3</th>\n",
       "      <td>00007bab-7268-41c4-9d5c-c335c3a26f7c</td>\n",
       "      <td>[0.0, 0.0, 0.0, 0.0, 0.0, 0.0, 0.0, 0.0, 0.0, ...</td>\n",
       "    </tr>\n",
       "    <tr>\n",
       "      <th>4</th>\n",
       "      <td>000080ea-f4d1-41c6-a327-76280f90d39f</td>\n",
       "      <td>[0.0, 0.0, 0.0, 0.0, 0.0, 0.0, 0.0, 0.0, 0.0, ...</td>\n",
       "    </tr>\n",
       "  </tbody>\n",
       "</table>\n",
       "</div>"
      ],
      "text/plain": [
       "                                    gid  \\\n",
       "0  00000baf-9215-483a-8900-93756eaf1cfc   \n",
       "1  000026d2-8db1-42b1-87da-e4389dcd6093   \n",
       "2  00007960-9d81-4192-b548-ad33d6b0ca54   \n",
       "3  00007bab-7268-41c4-9d5c-c335c3a26f7c   \n",
       "4  000080ea-f4d1-41c6-a327-76280f90d39f   \n",
       "\n",
       "                                           cat_cross  \n",
       "0  [0.0, 0.0, 0.0, 0.0, 0.0, 0.0, 0.0, 0.0, 0.0, ...  \n",
       "1  [0.0, 0.0, 0.0, 0.0, 0.0, 0.0, 0.0, 0.0, 0.0, ...  \n",
       "2  [0.0, 0.0, 0.0, 0.0, 0.0, 0.0, 0.0, 0.0, 0.0, ...  \n",
       "3  [0.0, 0.0, 0.0, 0.0, 0.0, 0.0, 0.0, 0.0, 0.0, ...  \n",
       "4  [0.0, 0.0, 0.0, 0.0, 0.0, 0.0, 0.0, 0.0, 0.0, ...  "
      ]
     },
     "execution_count": 6,
     "metadata": {},
     "output_type": "execute_result"
    }
   ],
   "source": [
    "cross_gen = pd.read_parquet('reportfiles/cross_gen.parquet')\n",
    "print(cross_gen.shape)\n",
    "cross_gen.head()"
   ]
  },
  {
   "cell_type": "markdown",
   "metadata": {},
   "source": [
    "#### Normalize the cat_cross list\n",
    "I could have also merged the count_sum_genre and used the sums to normalize"
   ]
  },
  {
   "cell_type": "code",
   "execution_count": 14,
   "metadata": {},
   "outputs": [],
   "source": [
    "cross_gen['cat_cross'] = cross_gen['cat_cross'].apply(lambda x: x/np.sum(x))"
   ]
  },
  {
   "cell_type": "markdown",
   "metadata": {},
   "source": [
    "Let's now merge the summed genre and the categorical list data"
   ]
  },
  {
   "cell_type": "code",
   "execution_count": 15,
   "metadata": {},
   "outputs": [
    {
     "name": "stdout",
     "output_type": "stream",
     "text": [
      "(530609, 3)\n"
     ]
    },
    {
     "data": {
      "text/html": [
       "<div>\n",
       "<style scoped>\n",
       "    .dataframe tbody tr th:only-of-type {\n",
       "        vertical-align: middle;\n",
       "    }\n",
       "\n",
       "    .dataframe tbody tr th {\n",
       "        vertical-align: top;\n",
       "    }\n",
       "\n",
       "    .dataframe thead th {\n",
       "        text-align: right;\n",
       "    }\n",
       "</style>\n",
       "<table border=\"1\" class=\"dataframe\">\n",
       "  <thead>\n",
       "    <tr style=\"text-align: right;\">\n",
       "      <th></th>\n",
       "      <th>gid</th>\n",
       "      <th>count</th>\n",
       "      <th>cat_cross</th>\n",
       "    </tr>\n",
       "  </thead>\n",
       "  <tbody>\n",
       "    <tr>\n",
       "      <th>0</th>\n",
       "      <td>00000baf-9215-483a-8900-93756eaf1cfc</td>\n",
       "      <td>1.0</td>\n",
       "      <td>[0.0, 0.0, 0.0, 0.0, 0.0, 0.0, 0.0, 0.0, 0.0, ...</td>\n",
       "    </tr>\n",
       "    <tr>\n",
       "      <th>1</th>\n",
       "      <td>000026d2-8db1-42b1-87da-e4389dcd6093</td>\n",
       "      <td>1.0</td>\n",
       "      <td>[0.0, 0.0, 0.0, 0.0, 0.0, 0.0, 0.0, 0.0, 0.0, ...</td>\n",
       "    </tr>\n",
       "    <tr>\n",
       "      <th>2</th>\n",
       "      <td>00007908-1fff-415d-8e87-a49722c2442b</td>\n",
       "      <td>1.0</td>\n",
       "      <td>[0.0, 0.0, 0.0, 0.0, 0.0, 0.0, 0.0, 0.0, 0.0, ...</td>\n",
       "    </tr>\n",
       "    <tr>\n",
       "      <th>3</th>\n",
       "      <td>00007960-9d81-4192-b548-ad33d6b0ca54</td>\n",
       "      <td>4.0</td>\n",
       "      <td>[0.0, 0.0, 0.0, 0.0, 0.0, 0.0, 0.0, 0.0, 0.0, ...</td>\n",
       "    </tr>\n",
       "    <tr>\n",
       "      <th>4</th>\n",
       "      <td>00007bab-7268-41c4-9d5c-c335c3a26f7c</td>\n",
       "      <td>1.0</td>\n",
       "      <td>[0.0, 0.0, 0.0, 0.0, 0.0, 0.0, 0.0, 0.0, 0.0, ...</td>\n",
       "    </tr>\n",
       "  </tbody>\n",
       "</table>\n",
       "</div>"
      ],
      "text/plain": [
       "                                    gid  count  \\\n",
       "0  00000baf-9215-483a-8900-93756eaf1cfc    1.0   \n",
       "1  000026d2-8db1-42b1-87da-e4389dcd6093    1.0   \n",
       "2  00007908-1fff-415d-8e87-a49722c2442b    1.0   \n",
       "3  00007960-9d81-4192-b548-ad33d6b0ca54    4.0   \n",
       "4  00007bab-7268-41c4-9d5c-c335c3a26f7c    1.0   \n",
       "\n",
       "                                           cat_cross  \n",
       "0  [0.0, 0.0, 0.0, 0.0, 0.0, 0.0, 0.0, 0.0, 0.0, ...  \n",
       "1  [0.0, 0.0, 0.0, 0.0, 0.0, 0.0, 0.0, 0.0, 0.0, ...  \n",
       "2  [0.0, 0.0, 0.0, 0.0, 0.0, 0.0, 0.0, 0.0, 0.0, ...  \n",
       "3  [0.0, 0.0, 0.0, 0.0, 0.0, 0.0, 0.0, 0.0, 0.0, ...  \n",
       "4  [0.0, 0.0, 0.0, 0.0, 0.0, 0.0, 0.0, 0.0, 0.0, ...  "
      ]
     },
     "execution_count": 15,
     "metadata": {},
     "output_type": "execute_result"
    }
   ],
   "source": [
    "final_target = count_sum_genre.merge(cross_gen, how='inner', left_on='gid', right_on='gid')\n",
    "print(final_target.shape)\n",
    "final_target.head()"
   ]
  },
  {
   "cell_type": "code",
   "execution_count": 16,
   "metadata": {},
   "outputs": [],
   "source": [
    "#Export\n",
    "final_target.to_parquet('reportfiles/target_genre.parquet')"
   ]
  },
  {
   "cell_type": "markdown",
   "metadata": {},
   "source": [
    "Let's now move onto the next part where I will be downloading the spectral data for all the recordings."
   ]
  },
  {
   "cell_type": "code",
   "execution_count": null,
   "metadata": {},
   "outputs": [],
   "source": []
  }
 ],
 "metadata": {
  "kernelspec": {
   "display_name": "Python 3",
   "language": "python",
   "name": "python3"
  },
  "language_info": {
   "codemirror_mode": {
    "name": "ipython",
    "version": 3
   },
   "file_extension": ".py",
   "mimetype": "text/x-python",
   "name": "python",
   "nbconvert_exporter": "python",
   "pygments_lexer": "ipython3",
   "version": "3.7.6"
  }
 },
 "nbformat": 4,
 "nbformat_minor": 2
}
