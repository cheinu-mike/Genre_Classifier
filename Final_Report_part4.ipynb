{
 "cells": [
  {
   "cell_type": "markdown",
   "metadata": {},
   "source": [
    "# Cleaning and wrangling the flattened csv/parquet\n",
    "\n",
    "The following code can be put into a loop for each chunk or done manualy if specific chunks are required. This portion of the report is largely the same as my assignment 2.\n",
    "\n",
    "Here I only do this process for just a single chunk, to process many chunks I have put the entire code into a for loop but not here."
   ]
  },
  {
   "cell_type": "code",
   "execution_count": 23,
   "metadata": {},
   "outputs": [],
   "source": [
    "import pyspark.sql.functions as F\n",
    "import os, atexit, sys, findspark, sparkhpc, pyspark, re\n",
    "import math\n",
    "import ast\n",
    "import numpy as np\n",
    "import pandas as pd\n",
    "import matplotlib.pyplot as plt\n",
    "import seaborn as sns\n",
    "from pyspark.sql.types import *\n",
    "from pyspark.context import SparkContext\n",
    "from pyspark.sql import SQLContext\n",
    "from pyspark.sql.functions import concat, col, lit, array\n",
    "pd.set_option('display.max_columns', 550)"
   ]
  },
  {
   "cell_type": "code",
   "execution_count": 95,
   "metadata": {},
   "outputs": [
    {
     "name": "stderr",
     "output_type": "stream",
     "text": [
      "INFO:sparkhpc.sparkjob:\n"
     ]
    }
   ],
   "source": [
    "# kill previous sparkcluster jobs just in case\n",
    "try: sc.stop()\n",
    "except: pass\n",
    "try: sj.stop()\n",
    "except: pass\n",
    "! scancel -u `whoami` -n sparkcluster"
   ]
  },
  {
   "cell_type": "code",
   "execution_count": 3,
   "metadata": {},
   "outputs": [
    {
     "name": "stderr",
     "output_type": "stream",
     "text": [
      "INFO:sparkhpc.sparkjob:Submitted batch job 8036\n",
      "\n",
      "INFO:sparkhpc.sparkjob:Submitted cluster 0\n"
     ]
    }
   ],
   "source": [
    "findspark.init()\n",
    "\n",
    "# specify your partition (unless you're OK with default)\n",
    "#os.environ['SBATCH_PARTITION']='cpu2019' #run this on the arc cluster\n",
    "\n",
    "sj = sparkhpc.sparkjob.sparkjob(\n",
    "    ncores = 24,                       # total number or cores\n",
    "    cores_per_executor = 8,            # parallelism of a single executor\n",
    "    memory_per_core = 10240,           # memory per core in MB \n",
    "    walltime = \"4:0\"                   # hh:mm format\n",
    ")\n",
    "\n",
    "sj.wait_to_start()\n",
    "sc = sj.start_spark()\n",
    "scq = SQLContext(sc)\n",
    "\n",
    "def exitHandler(sj,sc):\n",
    "    try:\n",
    "        print('Trapped Exit cleaning up Spark Context')\n",
    "        sc.stop()\n",
    "    except:\n",
    "        pass\n",
    "    try:\n",
    "        print('Trapped Exit cleaning up Spark Job')\n",
    "        sj.stop()\n",
    "    except:\n",
    "        pass\n",
    "atexit.register(exitHandler,sj,sc);\n",
    "#display(sc)"
   ]
  },
  {
   "cell_type": "markdown",
   "metadata": {},
   "source": [
    "## Part 1 - load the CSV file into a spark DataFrame\n",
    "Here I am not manually adjusting the schema as there are over 500 columns so I'll stick to inferring schema and that seems to work just fine."
   ]
  },
  {
   "cell_type": "code",
   "execution_count": 4,
   "metadata": {},
   "outputs": [],
   "source": [
    "#specify which chunk of data you want here\n",
    "chunk = 3"
   ]
  },
  {
   "cell_type": "code",
   "execution_count": 5,
   "metadata": {},
   "outputs": [
    {
     "name": "stdout",
     "output_type": "stream",
     "text": [
      "CPU times: user 6.5 ms, sys: 1.1 ms, total: 7.6 ms\n",
      "Wall time: 17.4 s\n"
     ]
    }
   ],
   "source": [
    "%%time\n",
    "df = scq.read.load('reportfiles/clean_{}.csv'.format(chunk), format='csv', header=True, multiLine = True, inferSchema=True)\n",
    "df = df.drop(\"_c0\")"
   ]
  },
  {
   "cell_type": "markdown",
   "metadata": {},
   "source": [
    "## Part 2 - save the DataFrame to a local Parquet file"
   ]
  },
  {
   "cell_type": "code",
   "execution_count": 6,
   "metadata": {},
   "outputs": [
    {
     "name": "stdout",
     "output_type": "stream",
     "text": [
      "File exists, will overwrite if overwrite is set to True\n",
      "overwrite set to False, moving on\n",
      "CPU times: user 1.33 ms, sys: 72 µs, total: 1.4 ms\n",
      "Wall time: 6.45 ms\n"
     ]
    }
   ],
   "source": [
    "%%time\n",
    "WRITEPATH = \"reportfiles/clean_{}.parquet\".format(chunk)\n",
    "overwrite = False\n",
    "if os.path.exists(WRITEPATH):\n",
    "    print(\"File exists, will overwrite if overwrite is set to True\")\n",
    "    if overwrite:\n",
    "        print(\"overwriting\")\n",
    "        df.write.parquet(WRITEPATH, mode=\"overwrite\")\n",
    "    else:\n",
    "        print(\"overwrite set to False, moving on\")\n",
    "else:\n",
    "    print(\"writing file\")\n",
    "    df.write.parquet(WRITEPATH, mode=\"overwrite\")"
   ]
  },
  {
   "cell_type": "markdown",
   "metadata": {},
   "source": [
    "## Part 3 - load the DataFrame from Parquet file"
   ]
  },
  {
   "cell_type": "code",
   "execution_count": 76,
   "metadata": {},
   "outputs": [
    {
     "name": "stdout",
     "output_type": "stream",
     "text": [
      "CPU times: user 3.65 ms, sys: 297 µs, total: 3.95 ms\n",
      "Wall time: 294 ms\n"
     ]
    }
   ],
   "source": [
    "%%time\n",
    "df = scq.read.load(WRITEPATH, format='parquet', header=True, inferSchema=True)\n",
    "df = df.cache()"
   ]
  },
  {
   "cell_type": "markdown",
   "metadata": {},
   "source": [
    "## Part 4 - perform cleaning/wrangling steps\n",
    "In the follwing steps I want to convert the following columns into array types so I can use them later. I have defined functions that will allow me to do this given the column names. The functions will convert columns that have string representations of a list into an actual array type so I can work on this later. I will then combine some of the columns into a 2D matrix as I will be using that for Deep learning in my project.\n",
    "\n",
    "**Note that I cannot use VectorAssembler on lists**\n",
    "\n",
    "First in order to not have any issues I will first drop any rows with any NAs. I will not be imputing or doing anything else other than dropping because I have so much data to begin with and imputing for these features properly may require some knowledge of spectral data."
   ]
  },
  {
   "cell_type": "markdown",
   "metadata": {},
   "source": [
    "### Dropping columns that I don't need\n",
    "Some of these data chunks have columns that possess extra columns due to the fact that the spectral data was extracted through an older version of Essentia (the spectral data extractor library). So I need to remove all extra columns if there are any.\n",
    "\n",
    "Below are a list of columns that are from clean_0.csv which will serve as the base or default columns. If a chunk has more columns than what is specified then the extra columns will be removed."
   ]
  },
  {
   "cell_type": "code",
   "execution_count": 77,
   "metadata": {},
   "outputs": [],
   "source": [
    "default_columns = []\n",
    "with open('reportfiles/default_columns.txt', 'r') as filehandle:\n",
    "    for line in filehandle:\n",
    "        de_col = line[:-1]\n",
    "        default_columns.append(de_col)"
   ]
  },
  {
   "cell_type": "code",
   "execution_count": 78,
   "metadata": {},
   "outputs": [
    {
     "data": {
      "text/plain": [
       "['_c0']"
      ]
     },
     "execution_count": 78,
     "metadata": {},
     "output_type": "execute_result"
    }
   ],
   "source": [
    "list(set(df.columns) - set(default_columns))"
   ]
  },
  {
   "cell_type": "code",
   "execution_count": 79,
   "metadata": {},
   "outputs": [
    {
     "name": "stdout",
     "output_type": "stream",
     "text": [
      "are columns the same?  True\n"
     ]
    }
   ],
   "source": [
    "df = df.drop(\"_c0\")\n",
    "if default_columns != df.columns:\n",
    "    print(\"there is an issue\")\n",
    "    extracols = list(set(df.columns) - set(default_columns))\n",
    "    litcols = ['`'+ ext + '`' for ext in extracols]\n",
    "    #get the data that doesn't have data in that extra cols\n",
    "    #my reasoning is that the older spectral data may also have some flaws even if they have\n",
    "    #information in the columns that I want\n",
    "    df = df.filter(df[litcols[0]].isNull())\n",
    "    df = df.drop(*extracols)\n",
    "print(\"are columns the same? \", default_columns == df.columns)"
   ]
  },
  {
   "cell_type": "markdown",
   "metadata": {},
   "source": [
    "#### Dropping rows with NAs\n",
    "I have lots of data so I will just dump the rows with even a single NA"
   ]
  },
  {
   "cell_type": "code",
   "execution_count": 80,
   "metadata": {},
   "outputs": [],
   "source": [
    "NA_drop_columns = [\"`\"+i+\"`\" for i in df.columns]\n",
    "df = df.na.drop(how='any', subset=NA_drop_columns)"
   ]
  },
  {
   "cell_type": "markdown",
   "metadata": {},
   "source": [
    "#### converting string-list to list"
   ]
  },
  {
   "cell_type": "code",
   "execution_count": 81,
   "metadata": {},
   "outputs": [],
   "source": [
    "#I feed this function a string representation of a list and it will convert it to a list\n",
    "@F.udf(returnType=ArrayType(FloatType()))\n",
    "def to_alist(val):\n",
    "    if type(val) != str:\n",
    "        return val\n",
    "    temp = ast.literal_eval(val)\n",
    "    return [float(i) for i in temp]\n",
    "\n",
    "#These columns gfcc.cov, gfcc.icov, mfcc.cov, and mfcc.icov are matrices so\n",
    "#i have to convert them into a list of lists\n",
    "@F.udf(returnType=ArrayType(ArrayType(FloatType())))\n",
    "def lsofls(val):\n",
    "    if type(val) != str:\n",
    "        return val\n",
    "    temp = ast.literal_eval(val)\n",
    "    return [list(map(float, i)) for i in temp]"
   ]
  },
  {
   "cell_type": "markdown",
   "metadata": {},
   "source": [
    "Now lets get all the relevant columns that contian lists. I will be using regex to find all the columns that I want. First, let's deal with converting string of a list into a simple list and then in the next step I will look at the matrices"
   ]
  },
  {
   "cell_type": "code",
   "execution_count": 82,
   "metadata": {},
   "outputs": [],
   "source": [
    "#These are the columns that are in a string list format\n",
    "cols = ['thpcp', 'chords_histogram', 'gfcc.mean', 'mfcc.mean']\n",
    "\n",
    "#These are columns containing the following name that are lists but I have to find all of them\n",
    "#for example there are columns named barkbands.dmean, erbbands.var, etc and I can't list them all by hand\n",
    "colgroup = ['barkbands', 'erbbands', 'melbands', 'spectral_contrast_coeffs', \n",
    "             'spectral_contrast_valleys', 'beats_loudness_band_ratio', 'hpcp']"
   ]
  },
  {
   "cell_type": "markdown",
   "metadata": {},
   "source": [
    "Now lets find all the columns"
   ]
  },
  {
   "cell_type": "code",
   "execution_count": 83,
   "metadata": {},
   "outputs": [
    {
     "data": {
      "text/plain": [
       "array(['barkbands.dmean', 'barkbands.dmean2', 'barkbands.dvar',\n",
       "       'barkbands.dvar2', 'barkbands.max', 'barkbands.mean',\n",
       "       'barkbands.median', 'barkbands.min', 'barkbands.var',\n",
       "       'erbbands.dmean', 'erbbands.dmean2', 'erbbands.dvar',\n",
       "       'erbbands.dvar2', 'erbbands.max', 'erbbands.mean',\n",
       "       'erbbands.median', 'erbbands.min', 'erbbands.var',\n",
       "       'melbands.dmean', 'melbands.dmean2', 'melbands.dvar',\n",
       "       'melbands.dvar2', 'melbands.max', 'melbands.mean',\n",
       "       'melbands.median', 'melbands.min', 'melbands.var',\n",
       "       'spectral_contrast_coeffs.dmean',\n",
       "       'spectral_contrast_coeffs.dmean2', 'spectral_contrast_coeffs.dvar',\n",
       "       'spectral_contrast_coeffs.dvar2', 'spectral_contrast_coeffs.max',\n",
       "       'spectral_contrast_coeffs.mean', 'spectral_contrast_coeffs.median',\n",
       "       'spectral_contrast_coeffs.min', 'spectral_contrast_coeffs.var',\n",
       "       'spectral_contrast_valleys.dmean',\n",
       "       'spectral_contrast_valleys.dmean2',\n",
       "       'spectral_contrast_valleys.dvar',\n",
       "       'spectral_contrast_valleys.dvar2', 'spectral_contrast_valleys.max',\n",
       "       'spectral_contrast_valleys.mean',\n",
       "       'spectral_contrast_valleys.median',\n",
       "       'spectral_contrast_valleys.min', 'spectral_contrast_valleys.var',\n",
       "       'beats_loudness_band_ratio.dmean',\n",
       "       'beats_loudness_band_ratio.dmean2',\n",
       "       'beats_loudness_band_ratio.dvar',\n",
       "       'beats_loudness_band_ratio.dvar2', 'beats_loudness_band_ratio.max',\n",
       "       'beats_loudness_band_ratio.mean',\n",
       "       'beats_loudness_band_ratio.median',\n",
       "       'beats_loudness_band_ratio.min', 'beats_loudness_band_ratio.var',\n",
       "       'hpcp.dmean', 'hpcp.dmean2', 'hpcp.dvar', 'hpcp.dvar2', 'hpcp.max',\n",
       "       'hpcp.mean', 'hpcp.median', 'hpcp.min', 'hpcp.var', 'thpcp',\n",
       "       'chords_histogram', 'gfcc.mean', 'mfcc.mean'], dtype='<U32')"
      ]
     },
     "execution_count": 83,
     "metadata": {},
     "output_type": "execute_result"
    }
   ],
   "source": [
    "col_list = []\n",
    "for i in colgroup:\n",
    "    pattern = re.compile(\"{}\\.\".format(i))\n",
    "    mercol = [col for col in df.columns if re.search(pattern, col)]\n",
    "    col_list = np.concatenate([col_list, mercol])\n",
    "\n",
    "#merge other columns\n",
    "col_list = np.concatenate([col_list, cols])\n",
    "#let's see if I got all the columns that I need to convert\n",
    "col_list"
   ]
  },
  {
   "cell_type": "markdown",
   "metadata": {},
   "source": [
    "Now let's convert the columns that have the string representation of a list into an actual list by iterating through the relevant columns"
   ]
  },
  {
   "cell_type": "code",
   "execution_count": 84,
   "metadata": {},
   "outputs": [],
   "source": [
    "for c in col_list:\n",
    "        df = df.withColumn(c, to_alist(\"`\"+c+\"`\"))"
   ]
  },
  {
   "cell_type": "code",
   "execution_count": 85,
   "metadata": {},
   "outputs": [
    {
     "name": "stdout",
     "output_type": "stream",
     "text": [
      "[33.90714645385742, 6.624934673309326, 9.73743724822998, 17.249174118041992, 0.2956007719039917, 1.5127804279327393, 0.0, 10.763345718383789, 1.147626519203186, 7.9986090660095215, 0.3129890561103821, 0.834637463092804, 0.0, 0.0, 0.0, 0.0, 0.0, 0.0, 0.0, 0.0, 0.0, 0.0, 5.772909164428711, 3.8428099155426025]\n"
     ]
    }
   ],
   "source": [
    "#now I have converted the relevant columns into list representations\n",
    "\n",
    "#uncomment the line below to see\n",
    "#df.printSchema()\n",
    "\n",
    "#An Example:\n",
    "print(df.select('`chords_histogram`').collect()[10][0])"
   ]
  },
  {
   "cell_type": "markdown",
   "metadata": {},
   "source": [
    "#### converting string list of list to 2D matrix"
   ]
  },
  {
   "cell_type": "code",
   "execution_count": 86,
   "metadata": {},
   "outputs": [],
   "source": [
    "#These are 2D matrices that need to be converted\n",
    "cols2 = ['gfcc.cov', 'gfcc.icov', 'mfcc.cov', 'mfcc.icov']"
   ]
  },
  {
   "cell_type": "code",
   "execution_count": 87,
   "metadata": {},
   "outputs": [],
   "source": [
    "for c in cols2:\n",
    "        df = df.withColumn(c, lsofls(\"`\"+c+\"`\"))"
   ]
  },
  {
   "cell_type": "code",
   "execution_count": 88,
   "metadata": {},
   "outputs": [
    {
     "name": "stdout",
     "output_type": "stream",
     "text": [
      "[[9792.9248046875, 47.185794830322266, 683.4351196289062, 126.49763488769531, 282.6947937011719, 352.2110290527344, 297.0572814941406, 261.89593505859375, 155.08909606933594, 76.77680206298828, -16.304019927978516, 7.2960710525512695, -86.40018463134766], [47.185794830322266, 1505.6640625, -164.31114196777344, 74.41741943359375, 68.31846618652344, 43.0838737487793, 38.4344482421875, -95.55068969726562, -67.0043716430664, -80.81790161132812, -57.170387268066406, -22.215173721313477, 14.488946914672852], [683.4351196289062, -164.31114196777344, 505.932861328125, 133.6712646484375, 110.04557037353516, 136.54856872558594, 107.27102661132812, 117.1864242553711, 72.07858276367188, 29.474576950073242, 22.955862045288086, 16.355819702148438, 0.5319907069206238], [126.49763488769531, 74.41741943359375, 133.6712646484375, 279.4884338378906, 100.76358795166016, 62.555877685546875, 22.998754501342773, 31.22076416015625, 12.424187660217285, 1.4747402667999268, -17.57172966003418, -3.837735414505005, -19.846134185791016], [282.6947937011719, 68.31846618652344, 110.04557037353516, 100.76358795166016, 242.69740295410156, 104.66175842285156, 92.2143325805664, 54.79416275024414, 53.92719268798828, 6.266246318817139, 3.823272228240967, 4.211371421813965, 0.6662346720695496], [352.2110290527344, 43.0838737487793, 136.54856872558594, 62.555877685546875, 104.66175842285156, 176.6084747314453, 105.37559509277344, 75.01609802246094, 55.16892623901367, 30.647233963012695, 27.746545791625977, 20.07636260986328, 6.814658164978027], [297.0572814941406, 38.4344482421875, 107.27102661132812, 22.998754501342773, 92.2143325805664, 105.37559509277344, 150.5802764892578, 81.1030044555664, 58.03032302856445, 30.986766815185547, 19.1097412109375, 19.787172317504883, 8.022583961486816], [261.89593505859375, -95.55068969726562, 117.1864242553711, 31.22076416015625, 54.79416275024414, 75.01609802246094, 81.1030044555664, 130.18289184570312, 78.0131607055664, 49.6285285949707, 33.13369369506836, 19.91838264465332, -2.736440420150757], [155.08909606933594, -67.0043716430664, 72.07858276367188, 12.424187660217285, 53.92719268798828, 55.16892623901367, 58.03032302856445, 78.0131607055664, 105.72494506835938, 57.44398498535156, 35.46208953857422, 15.71617317199707, 6.187342166900635], [76.77680206298828, -80.81790161132812, 29.474576950073242, 1.4747402667999268, 6.266246318817139, 30.647233963012695, 30.986766815185547, 49.6285285949707, 57.44398498535156, 97.2463607788086, 53.41925048828125, 26.586210250854492, 4.888179779052734], [-16.304019927978516, -57.170387268066406, 22.955862045288086, -17.57172966003418, 3.823272228240967, 27.746545791625977, 19.1097412109375, 33.13369369506836, 35.46208953857422, 53.41925048828125, 78.97612762451172, 32.10096740722656, 13.692120552062988], [7.2960710525512695, -22.215173721313477, 16.355819702148438, -3.837735414505005, 4.211371421813965, 20.07636260986328, 19.787172317504883, 19.91838264465332, 15.71617317199707, 26.586210250854492, 32.10096740722656, 62.53306579589844, 32.00054168701172], [-86.40018463134766, 14.488946914672852, 0.5319907069206238, -19.846134185791016, 0.6662346720695496, 6.814658164978027, 8.022583961486816, -2.736440420150757, 6.187342166900635, 4.888179779052734, 13.692120552062988, 32.00054168701172, 66.11437225341797]]\n"
     ]
    }
   ],
   "source": [
    "#now I have converted the relevant columns into 2D matrix representations\n",
    "\n",
    "#uncomment the line below to see\n",
    "#df.printSchema()\n",
    "\n",
    "#An Example:\n",
    "print(df.select('`mfcc.cov`').collect()[2][0])"
   ]
  },
  {
   "cell_type": "markdown",
   "metadata": {},
   "source": [
    "### Part 5 - Joining with the Target Data\n",
    "\n",
    "we should merge this feature set with the targets that wwe made in Final Report part 1"
   ]
  },
  {
   "cell_type": "code",
   "execution_count": 89,
   "metadata": {},
   "outputs": [],
   "source": [
    "genre = scq.read.load('reportfiles/target_genre.parquet', format='parquet', header=True, inferSchema=True)"
   ]
  },
  {
   "cell_type": "code",
   "execution_count": 90,
   "metadata": {},
   "outputs": [
    {
     "name": "stdout",
     "output_type": "stream",
     "text": [
      "root\n",
      " |-- average_loudness: double (nullable = true)\n",
      " |-- dynamic_complexity: double (nullable = true)\n",
      " |-- barkbands.dmean: array (nullable = true)\n",
      " |    |-- element: float (containsNull = true)\n",
      " |-- barkbands.dmean2: array (nullable = true)\n",
      " |    |-- element: float (containsNull = true)\n",
      " |-- barkbands.dvar: array (nullable = true)\n",
      " |    |-- element: float (containsNull = true)\n",
      " |-- barkbands.dvar2: array (nullable = true)\n",
      " |    |-- element: float (containsNull = true)\n",
      " |-- barkbands.max: array (nullable = true)\n",
      " |    |-- element: float (containsNull = true)\n",
      " |-- barkbands.mean: array (nullable = true)\n",
      " |    |-- element: float (containsNull = true)\n",
      " |-- barkbands.median: array (nullable = true)\n",
      " |    |-- element: float (containsNull = true)\n",
      " |-- barkbands.min: array (nullable = true)\n",
      " |    |-- element: float (containsNull = true)\n",
      " |-- barkbands.var: array (nullable = true)\n",
      " |    |-- element: float (containsNull = true)\n",
      " |-- barkbands_crest.dmean: double (nullable = true)\n",
      " |-- barkbands_crest.dmean2: double (nullable = true)\n",
      " |-- barkbands_crest.dvar: double (nullable = true)\n",
      " |-- barkbands_crest.dvar2: double (nullable = true)\n",
      " |-- barkbands_crest.max: double (nullable = true)\n",
      " |-- barkbands_crest.mean: double (nullable = true)\n",
      " |-- barkbands_crest.median: double (nullable = true)\n",
      " |-- barkbands_crest.min: double (nullable = true)\n",
      " |-- barkbands_crest.var: double (nullable = true)\n",
      " |-- barkbands_flatness_db.dmean: double (nullable = true)\n",
      " |-- barkbands_flatness_db.dmean2: double (nullable = true)\n",
      " |-- barkbands_flatness_db.dvar: double (nullable = true)\n",
      " |-- barkbands_flatness_db.dvar2: double (nullable = true)\n",
      " |-- barkbands_flatness_db.max: double (nullable = true)\n",
      " |-- barkbands_flatness_db.mean: double (nullable = true)\n",
      " |-- barkbands_flatness_db.median: double (nullable = true)\n",
      " |-- barkbands_flatness_db.min: double (nullable = true)\n",
      " |-- barkbands_flatness_db.var: double (nullable = true)\n",
      " |-- barkbands_kurtosis.dmean: double (nullable = true)\n",
      " |-- barkbands_kurtosis.dmean2: double (nullable = true)\n",
      " |-- barkbands_kurtosis.dvar: double (nullable = true)\n",
      " |-- barkbands_kurtosis.dvar2: double (nullable = true)\n",
      " |-- barkbands_kurtosis.max: double (nullable = true)\n",
      " |-- barkbands_kurtosis.mean: double (nullable = true)\n",
      " |-- barkbands_kurtosis.median: double (nullable = true)\n",
      " |-- barkbands_kurtosis.min: double (nullable = true)\n",
      " |-- barkbands_kurtosis.var: double (nullable = true)\n",
      " |-- barkbands_skewness.dmean: double (nullable = true)\n",
      " |-- barkbands_skewness.dmean2: double (nullable = true)\n",
      " |-- barkbands_skewness.dvar: double (nullable = true)\n",
      " |-- barkbands_skewness.dvar2: double (nullable = true)\n",
      " |-- barkbands_skewness.max: double (nullable = true)\n",
      " |-- barkbands_skewness.mean: double (nullable = true)\n",
      " |-- barkbands_skewness.median: double (nullable = true)\n",
      " |-- barkbands_skewness.min: double (nullable = true)\n",
      " |-- barkbands_skewness.var: double (nullable = true)\n",
      " |-- barkbands_spread.dmean: double (nullable = true)\n",
      " |-- barkbands_spread.dmean2: double (nullable = true)\n",
      " |-- barkbands_spread.dvar: double (nullable = true)\n",
      " |-- barkbands_spread.dvar2: double (nullable = true)\n",
      " |-- barkbands_spread.max: double (nullable = true)\n",
      " |-- barkbands_spread.mean: double (nullable = true)\n",
      " |-- barkbands_spread.median: double (nullable = true)\n",
      " |-- barkbands_spread.min: double (nullable = true)\n",
      " |-- barkbands_spread.var: double (nullable = true)\n",
      " |-- dissonance.dmean: double (nullable = true)\n",
      " |-- dissonance.dmean2: double (nullable = true)\n",
      " |-- dissonance.dvar: double (nullable = true)\n",
      " |-- dissonance.dvar2: double (nullable = true)\n",
      " |-- dissonance.max: double (nullable = true)\n",
      " |-- dissonance.mean: double (nullable = true)\n",
      " |-- dissonance.median: double (nullable = true)\n",
      " |-- dissonance.min: double (nullable = true)\n",
      " |-- dissonance.var: double (nullable = true)\n",
      " |-- erbbands.dmean: array (nullable = true)\n",
      " |    |-- element: float (containsNull = true)\n",
      " |-- erbbands.dmean2: array (nullable = true)\n",
      " |    |-- element: float (containsNull = true)\n",
      " |-- erbbands.dvar: array (nullable = true)\n",
      " |    |-- element: float (containsNull = true)\n",
      " |-- erbbands.dvar2: array (nullable = true)\n",
      " |    |-- element: float (containsNull = true)\n",
      " |-- erbbands.max: array (nullable = true)\n",
      " |    |-- element: float (containsNull = true)\n",
      " |-- erbbands.mean: array (nullable = true)\n",
      " |    |-- element: float (containsNull = true)\n",
      " |-- erbbands.median: array (nullable = true)\n",
      " |    |-- element: float (containsNull = true)\n",
      " |-- erbbands.min: array (nullable = true)\n",
      " |    |-- element: float (containsNull = true)\n",
      " |-- erbbands.var: array (nullable = true)\n",
      " |    |-- element: float (containsNull = true)\n",
      " |-- erbbands_crest.dmean: double (nullable = true)\n",
      " |-- erbbands_crest.dmean2: double (nullable = true)\n",
      " |-- erbbands_crest.dvar: double (nullable = true)\n",
      " |-- erbbands_crest.dvar2: double (nullable = true)\n",
      " |-- erbbands_crest.max: double (nullable = true)\n",
      " |-- erbbands_crest.mean: double (nullable = true)\n",
      " |-- erbbands_crest.median: double (nullable = true)\n",
      " |-- erbbands_crest.min: double (nullable = true)\n",
      " |-- erbbands_crest.var: double (nullable = true)\n",
      " |-- erbbands_flatness_db.dmean: double (nullable = true)\n",
      " |-- erbbands_flatness_db.dmean2: double (nullable = true)\n",
      " |-- erbbands_flatness_db.dvar: double (nullable = true)\n",
      " |-- erbbands_flatness_db.dvar2: double (nullable = true)\n",
      " |-- erbbands_flatness_db.max: double (nullable = true)\n",
      " |-- erbbands_flatness_db.mean: double (nullable = true)\n",
      " |-- erbbands_flatness_db.median: double (nullable = true)\n",
      " |-- erbbands_flatness_db.min: double (nullable = true)\n",
      " |-- erbbands_flatness_db.var: double (nullable = true)\n",
      " |-- erbbands_kurtosis.dmean: double (nullable = true)\n",
      " |-- erbbands_kurtosis.dmean2: double (nullable = true)\n",
      " |-- erbbands_kurtosis.dvar: double (nullable = true)\n",
      " |-- erbbands_kurtosis.dvar2: double (nullable = true)\n",
      " |-- erbbands_kurtosis.max: double (nullable = true)\n",
      " |-- erbbands_kurtosis.mean: double (nullable = true)\n",
      " |-- erbbands_kurtosis.median: double (nullable = true)\n",
      " |-- erbbands_kurtosis.min: double (nullable = true)\n",
      " |-- erbbands_kurtosis.var: double (nullable = true)\n",
      " |-- erbbands_skewness.dmean: double (nullable = true)\n",
      " |-- erbbands_skewness.dmean2: double (nullable = true)\n",
      " |-- erbbands_skewness.dvar: double (nullable = true)\n",
      " |-- erbbands_skewness.dvar2: double (nullable = true)\n",
      " |-- erbbands_skewness.max: double (nullable = true)\n",
      " |-- erbbands_skewness.mean: double (nullable = true)\n",
      " |-- erbbands_skewness.median: double (nullable = true)\n",
      " |-- erbbands_skewness.min: double (nullable = true)\n",
      " |-- erbbands_skewness.var: double (nullable = true)\n",
      " |-- erbbands_spread.dmean: double (nullable = true)\n",
      " |-- erbbands_spread.dmean2: double (nullable = true)\n",
      " |-- erbbands_spread.dvar: double (nullable = true)\n",
      " |-- erbbands_spread.dvar2: double (nullable = true)\n",
      " |-- erbbands_spread.max: double (nullable = true)\n",
      " |-- erbbands_spread.mean: double (nullable = true)\n",
      " |-- erbbands_spread.median: double (nullable = true)\n",
      " |-- erbbands_spread.min: double (nullable = true)\n",
      " |-- erbbands_spread.var: double (nullable = true)\n",
      " |-- gfcc.cov: array (nullable = true)\n",
      " |    |-- element: array (containsNull = true)\n",
      " |    |    |-- element: float (containsNull = true)\n",
      " |-- gfcc.icov: array (nullable = true)\n",
      " |    |-- element: array (containsNull = true)\n",
      " |    |    |-- element: float (containsNull = true)\n",
      " |-- gfcc.mean: array (nullable = true)\n",
      " |    |-- element: float (containsNull = true)\n",
      " |-- hfc.dmean: double (nullable = true)\n",
      " |-- hfc.dmean2: double (nullable = true)\n",
      " |-- hfc.dvar: double (nullable = true)\n",
      " |-- hfc.dvar2: double (nullable = true)\n",
      " |-- hfc.max: double (nullable = true)\n",
      " |-- hfc.mean: double (nullable = true)\n",
      " |-- hfc.median: double (nullable = true)\n",
      " |-- hfc.min: double (nullable = true)\n",
      " |-- hfc.var: double (nullable = true)\n",
      " |-- melbands.dmean: array (nullable = true)\n",
      " |    |-- element: float (containsNull = true)\n",
      " |-- melbands.dmean2: array (nullable = true)\n",
      " |    |-- element: float (containsNull = true)\n",
      " |-- melbands.dvar: array (nullable = true)\n",
      " |    |-- element: float (containsNull = true)\n",
      " |-- melbands.dvar2: array (nullable = true)\n",
      " |    |-- element: float (containsNull = true)\n",
      " |-- melbands.max: array (nullable = true)\n",
      " |    |-- element: float (containsNull = true)\n",
      " |-- melbands.mean: array (nullable = true)\n",
      " |    |-- element: float (containsNull = true)\n",
      " |-- melbands.median: array (nullable = true)\n",
      " |    |-- element: float (containsNull = true)\n",
      " |-- melbands.min: array (nullable = true)\n",
      " |    |-- element: float (containsNull = true)\n",
      " |-- melbands.var: array (nullable = true)\n",
      " |    |-- element: float (containsNull = true)\n",
      " |-- melbands_crest.dmean: double (nullable = true)\n",
      " |-- melbands_crest.dmean2: double (nullable = true)\n",
      " |-- melbands_crest.dvar: double (nullable = true)\n",
      " |-- melbands_crest.dvar2: double (nullable = true)\n",
      " |-- melbands_crest.max: double (nullable = true)\n",
      " |-- melbands_crest.mean: double (nullable = true)\n",
      " |-- melbands_crest.median: double (nullable = true)\n",
      " |-- melbands_crest.min: double (nullable = true)\n",
      " |-- melbands_crest.var: double (nullable = true)\n",
      " |-- melbands_flatness_db.dmean: double (nullable = true)\n",
      " |-- melbands_flatness_db.dmean2: double (nullable = true)\n",
      " |-- melbands_flatness_db.dvar: double (nullable = true)\n",
      " |-- melbands_flatness_db.dvar2: double (nullable = true)\n",
      " |-- melbands_flatness_db.max: double (nullable = true)\n",
      " |-- melbands_flatness_db.mean: double (nullable = true)\n",
      " |-- melbands_flatness_db.median: double (nullable = true)\n",
      " |-- melbands_flatness_db.min: double (nullable = true)\n",
      " |-- melbands_flatness_db.var: double (nullable = true)\n",
      " |-- melbands_kurtosis.dmean: double (nullable = true)\n",
      " |-- melbands_kurtosis.dmean2: double (nullable = true)\n",
      " |-- melbands_kurtosis.dvar: double (nullable = true)\n",
      " |-- melbands_kurtosis.dvar2: double (nullable = true)\n",
      " |-- melbands_kurtosis.max: double (nullable = true)\n",
      " |-- melbands_kurtosis.mean: double (nullable = true)\n",
      " |-- melbands_kurtosis.median: double (nullable = true)\n",
      " |-- melbands_kurtosis.min: double (nullable = true)\n",
      " |-- melbands_kurtosis.var: double (nullable = true)\n",
      " |-- melbands_skewness.dmean: double (nullable = true)\n",
      " |-- melbands_skewness.dmean2: double (nullable = true)\n",
      " |-- melbands_skewness.dvar: double (nullable = true)\n",
      " |-- melbands_skewness.dvar2: double (nullable = true)\n",
      " |-- melbands_skewness.max: double (nullable = true)\n",
      " |-- melbands_skewness.mean: double (nullable = true)\n",
      " |-- melbands_skewness.median: double (nullable = true)\n",
      " |-- melbands_skewness.min: double (nullable = true)\n",
      " |-- melbands_skewness.var: double (nullable = true)\n",
      " |-- melbands_spread.dmean: double (nullable = true)\n",
      " |-- melbands_spread.dmean2: double (nullable = true)\n",
      " |-- melbands_spread.dvar: double (nullable = true)\n",
      " |-- melbands_spread.dvar2: double (nullable = true)\n",
      " |-- melbands_spread.max: double (nullable = true)\n",
      " |-- melbands_spread.mean: double (nullable = true)\n",
      " |-- melbands_spread.median: double (nullable = true)\n",
      " |-- melbands_spread.min: double (nullable = true)\n",
      " |-- melbands_spread.var: double (nullable = true)\n",
      " |-- mfcc.cov: array (nullable = true)\n",
      " |    |-- element: array (containsNull = true)\n",
      " |    |    |-- element: float (containsNull = true)\n",
      " |-- mfcc.icov: array (nullable = true)\n",
      " |    |-- element: array (containsNull = true)\n",
      " |    |    |-- element: float (containsNull = true)\n",
      " |-- mfcc.mean: array (nullable = true)\n",
      " |    |-- element: float (containsNull = true)\n",
      " |-- pitch_salience.dmean: double (nullable = true)\n",
      " |-- pitch_salience.dmean2: double (nullable = true)\n",
      " |-- pitch_salience.dvar: double (nullable = true)\n",
      " |-- pitch_salience.dvar2: double (nullable = true)\n",
      " |-- pitch_salience.max: double (nullable = true)\n",
      " |-- pitch_salience.mean: double (nullable = true)\n",
      " |-- pitch_salience.median: double (nullable = true)\n",
      " |-- pitch_salience.min: double (nullable = true)\n",
      " |-- pitch_salience.var: double (nullable = true)\n",
      " |-- silence_rate_20dB.dmean: double (nullable = true)\n",
      " |-- silence_rate_20dB.dmean2: double (nullable = true)\n",
      " |-- silence_rate_20dB.dvar: double (nullable = true)\n",
      " |-- silence_rate_20dB.dvar2: double (nullable = true)\n",
      " |-- silence_rate_20dB.max: integer (nullable = true)\n",
      " |-- silence_rate_20dB.mean: double (nullable = true)\n",
      " |-- silence_rate_20dB.median: integer (nullable = true)\n",
      " |-- silence_rate_20dB.min: integer (nullable = true)\n",
      " |-- silence_rate_20dB.var: double (nullable = true)\n",
      " |-- silence_rate_30dB.dmean: double (nullable = true)\n",
      " |-- silence_rate_30dB.dmean2: double (nullable = true)\n",
      " |-- silence_rate_30dB.dvar: double (nullable = true)\n",
      " |-- silence_rate_30dB.dvar2: double (nullable = true)\n",
      " |-- silence_rate_30dB.max: integer (nullable = true)\n",
      " |-- silence_rate_30dB.mean: double (nullable = true)\n",
      " |-- silence_rate_30dB.median: integer (nullable = true)\n",
      " |-- silence_rate_30dB.min: integer (nullable = true)\n",
      " |-- silence_rate_30dB.var: double (nullable = true)\n",
      " |-- silence_rate_60dB.dmean: double (nullable = true)\n",
      " |-- silence_rate_60dB.dmean2: double (nullable = true)\n",
      " |-- silence_rate_60dB.dvar: double (nullable = true)\n",
      " |-- silence_rate_60dB.dvar2: double (nullable = true)\n",
      " |-- silence_rate_60dB.max: integer (nullable = true)\n",
      " |-- silence_rate_60dB.mean: double (nullable = true)\n",
      " |-- silence_rate_60dB.median: integer (nullable = true)\n",
      " |-- silence_rate_60dB.min: integer (nullable = true)\n",
      " |-- silence_rate_60dB.var: double (nullable = true)\n",
      " |-- spectral_centroid.dmean: double (nullable = true)\n",
      " |-- spectral_centroid.dmean2: double (nullable = true)\n",
      " |-- spectral_centroid.dvar: double (nullable = true)\n",
      " |-- spectral_centroid.dvar2: double (nullable = true)\n",
      " |-- spectral_centroid.max: double (nullable = true)\n",
      " |-- spectral_centroid.mean: double (nullable = true)\n",
      " |-- spectral_centroid.median: double (nullable = true)\n",
      " |-- spectral_centroid.min: double (nullable = true)\n",
      " |-- spectral_centroid.var: double (nullable = true)\n",
      " |-- spectral_complexity.dmean: double (nullable = true)\n",
      " |-- spectral_complexity.dmean2: double (nullable = true)\n",
      " |-- spectral_complexity.dvar: double (nullable = true)\n",
      " |-- spectral_complexity.dvar2: double (nullable = true)\n",
      " |-- spectral_complexity.max: integer (nullable = true)\n",
      " |-- spectral_complexity.mean: double (nullable = true)\n",
      " |-- spectral_complexity.median: double (nullable = true)\n",
      " |-- spectral_complexity.min: integer (nullable = true)\n",
      " |-- spectral_complexity.var: double (nullable = true)\n",
      " |-- spectral_contrast_coeffs.dmean: array (nullable = true)\n",
      " |    |-- element: float (containsNull = true)\n",
      " |-- spectral_contrast_coeffs.dmean2: array (nullable = true)\n",
      " |    |-- element: float (containsNull = true)\n",
      " |-- spectral_contrast_coeffs.dvar: array (nullable = true)\n",
      " |    |-- element: float (containsNull = true)\n",
      " |-- spectral_contrast_coeffs.dvar2: array (nullable = true)\n",
      " |    |-- element: float (containsNull = true)\n",
      " |-- spectral_contrast_coeffs.max: array (nullable = true)\n",
      " |    |-- element: float (containsNull = true)\n",
      " |-- spectral_contrast_coeffs.mean: array (nullable = true)\n",
      " |    |-- element: float (containsNull = true)\n",
      " |-- spectral_contrast_coeffs.median: array (nullable = true)\n",
      " |    |-- element: float (containsNull = true)\n",
      " |-- spectral_contrast_coeffs.min: array (nullable = true)\n",
      " |    |-- element: float (containsNull = true)\n",
      " |-- spectral_contrast_coeffs.var: array (nullable = true)\n",
      " |    |-- element: float (containsNull = true)\n",
      " |-- spectral_contrast_valleys.dmean: array (nullable = true)\n",
      " |    |-- element: float (containsNull = true)\n",
      " |-- spectral_contrast_valleys.dmean2: array (nullable = true)\n",
      " |    |-- element: float (containsNull = true)\n",
      " |-- spectral_contrast_valleys.dvar: array (nullable = true)\n",
      " |    |-- element: float (containsNull = true)\n",
      " |-- spectral_contrast_valleys.dvar2: array (nullable = true)\n",
      " |    |-- element: float (containsNull = true)\n",
      " |-- spectral_contrast_valleys.max: array (nullable = true)\n",
      " |    |-- element: float (containsNull = true)\n",
      " |-- spectral_contrast_valleys.mean: array (nullable = true)\n",
      " |    |-- element: float (containsNull = true)\n",
      " |-- spectral_contrast_valleys.median: array (nullable = true)\n",
      " |    |-- element: float (containsNull = true)\n",
      " |-- spectral_contrast_valleys.min: array (nullable = true)\n",
      " |    |-- element: float (containsNull = true)\n",
      " |-- spectral_contrast_valleys.var: array (nullable = true)\n",
      " |    |-- element: float (containsNull = true)\n",
      " |-- spectral_decrease.dmean: double (nullable = true)\n",
      " |-- spectral_decrease.dmean2: double (nullable = true)\n",
      " |-- spectral_decrease.dvar: double (nullable = true)\n",
      " |-- spectral_decrease.dvar2: double (nullable = true)\n",
      " |-- spectral_decrease.max: double (nullable = true)\n",
      " |-- spectral_decrease.mean: double (nullable = true)\n",
      " |-- spectral_decrease.median: double (nullable = true)\n",
      " |-- spectral_decrease.min: double (nullable = true)\n",
      " |-- spectral_decrease.var: double (nullable = true)\n",
      " |-- spectral_energy.dmean: double (nullable = true)\n",
      " |-- spectral_energy.dmean2: double (nullable = true)\n",
      " |-- spectral_energy.dvar: double (nullable = true)\n",
      " |-- spectral_energy.dvar2: double (nullable = true)\n",
      " |-- spectral_energy.max: double (nullable = true)\n",
      " |-- spectral_energy.mean: double (nullable = true)\n",
      " |-- spectral_energy.median: double (nullable = true)\n",
      " |-- spectral_energy.min: double (nullable = true)\n",
      " |-- spectral_energy.var: double (nullable = true)\n",
      " |-- spectral_energyband_high.dmean: double (nullable = true)\n",
      " |-- spectral_energyband_high.dmean2: double (nullable = true)\n",
      " |-- spectral_energyband_high.dvar: double (nullable = true)\n",
      " |-- spectral_energyband_high.dvar2: double (nullable = true)\n",
      " |-- spectral_energyband_high.max: double (nullable = true)\n",
      " |-- spectral_energyband_high.mean: double (nullable = true)\n",
      " |-- spectral_energyband_high.median: double (nullable = true)\n",
      " |-- spectral_energyband_high.min: double (nullable = true)\n",
      " |-- spectral_energyband_high.var: double (nullable = true)\n",
      " |-- spectral_energyband_low.dmean: double (nullable = true)\n",
      " |-- spectral_energyband_low.dmean2: double (nullable = true)\n",
      " |-- spectral_energyband_low.dvar: double (nullable = true)\n",
      " |-- spectral_energyband_low.dvar2: double (nullable = true)\n",
      " |-- spectral_energyband_low.max: double (nullable = true)\n",
      " |-- spectral_energyband_low.mean: double (nullable = true)\n",
      " |-- spectral_energyband_low.median: double (nullable = true)\n",
      " |-- spectral_energyband_low.min: double (nullable = true)\n",
      " |-- spectral_energyband_low.var: double (nullable = true)\n",
      " |-- spectral_energyband_middle_high.dmean: double (nullable = true)\n",
      " |-- spectral_energyband_middle_high.dmean2: double (nullable = true)\n",
      " |-- spectral_energyband_middle_high.dvar: double (nullable = true)\n",
      " |-- spectral_energyband_middle_high.dvar2: double (nullable = true)\n",
      " |-- spectral_energyband_middle_high.max: double (nullable = true)\n",
      " |-- spectral_energyband_middle_high.mean: double (nullable = true)\n",
      " |-- spectral_energyband_middle_high.median: double (nullable = true)\n",
      " |-- spectral_energyband_middle_high.min: double (nullable = true)\n",
      " |-- spectral_energyband_middle_high.var: double (nullable = true)\n",
      " |-- spectral_energyband_middle_low.dmean: double (nullable = true)\n",
      " |-- spectral_energyband_middle_low.dmean2: double (nullable = true)\n",
      " |-- spectral_energyband_middle_low.dvar: double (nullable = true)\n",
      " |-- spectral_energyband_middle_low.dvar2: double (nullable = true)\n",
      " |-- spectral_energyband_middle_low.max: double (nullable = true)\n",
      " |-- spectral_energyband_middle_low.mean: double (nullable = true)\n",
      " |-- spectral_energyband_middle_low.median: double (nullable = true)\n",
      " |-- spectral_energyband_middle_low.min: double (nullable = true)\n",
      " |-- spectral_energyband_middle_low.var: double (nullable = true)\n",
      " |-- spectral_entropy.dmean: double (nullable = true)\n",
      " |-- spectral_entropy.dmean2: double (nullable = true)\n",
      " |-- spectral_entropy.dvar: double (nullable = true)\n",
      " |-- spectral_entropy.dvar2: double (nullable = true)\n",
      " |-- spectral_entropy.max: double (nullable = true)\n",
      " |-- spectral_entropy.mean: double (nullable = true)\n",
      " |-- spectral_entropy.median: double (nullable = true)\n",
      " |-- spectral_entropy.min: double (nullable = true)\n",
      " |-- spectral_entropy.var: double (nullable = true)\n",
      " |-- spectral_flux.dmean: double (nullable = true)\n",
      " |-- spectral_flux.dmean2: double (nullable = true)\n",
      " |-- spectral_flux.dvar: double (nullable = true)\n",
      " |-- spectral_flux.dvar2: double (nullable = true)\n",
      " |-- spectral_flux.max: double (nullable = true)\n",
      " |-- spectral_flux.mean: double (nullable = true)\n",
      " |-- spectral_flux.median: double (nullable = true)\n",
      " |-- spectral_flux.min: double (nullable = true)\n",
      " |-- spectral_flux.var: double (nullable = true)\n",
      " |-- spectral_kurtosis.dmean: double (nullable = true)\n",
      " |-- spectral_kurtosis.dmean2: double (nullable = true)\n",
      " |-- spectral_kurtosis.dvar: double (nullable = true)\n",
      " |-- spectral_kurtosis.dvar2: double (nullable = true)\n",
      " |-- spectral_kurtosis.max: double (nullable = true)\n",
      " |-- spectral_kurtosis.mean: double (nullable = true)\n",
      " |-- spectral_kurtosis.median: double (nullable = true)\n",
      " |-- spectral_kurtosis.min: double (nullable = true)\n",
      " |-- spectral_kurtosis.var: double (nullable = true)\n",
      " |-- spectral_rms.dmean: double (nullable = true)\n",
      " |-- spectral_rms.dmean2: double (nullable = true)\n",
      " |-- spectral_rms.dvar: double (nullable = true)\n",
      " |-- spectral_rms.dvar2: double (nullable = true)\n",
      " |-- spectral_rms.max: double (nullable = true)\n",
      " |-- spectral_rms.mean: double (nullable = true)\n",
      " |-- spectral_rms.median: double (nullable = true)\n",
      " |-- spectral_rms.min: double (nullable = true)\n",
      " |-- spectral_rms.var: double (nullable = true)\n",
      " |-- spectral_rolloff.dmean: double (nullable = true)\n",
      " |-- spectral_rolloff.dmean2: double (nullable = true)\n",
      " |-- spectral_rolloff.dvar: double (nullable = true)\n",
      " |-- spectral_rolloff.dvar2: double (nullable = true)\n",
      " |-- spectral_rolloff.max: double (nullable = true)\n",
      " |-- spectral_rolloff.mean: double (nullable = true)\n",
      " |-- spectral_rolloff.median: double (nullable = true)\n",
      " |-- spectral_rolloff.min: double (nullable = true)\n",
      " |-- spectral_rolloff.var: double (nullable = true)\n",
      " |-- spectral_skewness.dmean: double (nullable = true)\n",
      " |-- spectral_skewness.dmean2: double (nullable = true)\n",
      " |-- spectral_skewness.dvar: double (nullable = true)\n",
      " |-- spectral_skewness.dvar2: double (nullable = true)\n",
      " |-- spectral_skewness.max: double (nullable = true)\n",
      " |-- spectral_skewness.mean: double (nullable = true)\n",
      " |-- spectral_skewness.median: double (nullable = true)\n",
      " |-- spectral_skewness.min: double (nullable = true)\n",
      " |-- spectral_skewness.var: double (nullable = true)\n",
      " |-- spectral_spread.dmean: double (nullable = true)\n",
      " |-- spectral_spread.dmean2: double (nullable = true)\n",
      " |-- spectral_spread.dvar: double (nullable = true)\n",
      " |-- spectral_spread.dvar2: double (nullable = true)\n",
      " |-- spectral_spread.max: double (nullable = true)\n",
      " |-- spectral_spread.mean: double (nullable = true)\n",
      " |-- spectral_spread.median: double (nullable = true)\n",
      " |-- spectral_spread.min: double (nullable = true)\n",
      " |-- spectral_spread.var: double (nullable = true)\n",
      " |-- spectral_strongpeak.dmean: double (nullable = true)\n",
      " |-- spectral_strongpeak.dmean2: double (nullable = true)\n",
      " |-- spectral_strongpeak.dvar: double (nullable = true)\n",
      " |-- spectral_strongpeak.dvar2: double (nullable = true)\n",
      " |-- spectral_strongpeak.max: double (nullable = true)\n",
      " |-- spectral_strongpeak.mean: double (nullable = true)\n",
      " |-- spectral_strongpeak.median: double (nullable = true)\n",
      " |-- spectral_strongpeak.min: double (nullable = true)\n",
      " |-- spectral_strongpeak.var: double (nullable = true)\n",
      " |-- zerocrossingrate.dmean: double (nullable = true)\n",
      " |-- zerocrossingrate.dmean2: double (nullable = true)\n",
      " |-- zerocrossingrate.dvar: double (nullable = true)\n",
      " |-- zerocrossingrate.dvar2: double (nullable = true)\n",
      " |-- zerocrossingrate.max: double (nullable = true)\n",
      " |-- zerocrossingrate.mean: double (nullable = true)\n",
      " |-- zerocrossingrate.median: double (nullable = true)\n",
      " |-- zerocrossingrate.min: double (nullable = true)\n",
      " |-- zerocrossingrate.var: double (nullable = true)\n",
      " |-- beats_count: integer (nullable = true)\n",
      " |-- beats_position: string (nullable = true)\n",
      " |-- bpm: double (nullable = true)\n",
      " |-- danceability: double (nullable = true)\n",
      " |-- onset_rate: double (nullable = true)\n",
      " |-- beats_loudness.dmean: double (nullable = true)\n",
      " |-- beats_loudness.dmean2: double (nullable = true)\n",
      " |-- beats_loudness.dvar: double (nullable = true)\n",
      " |-- beats_loudness.dvar2: double (nullable = true)\n",
      " |-- beats_loudness.max: double (nullable = true)\n",
      " |-- beats_loudness.mean: double (nullable = true)\n",
      " |-- beats_loudness.median: double (nullable = true)\n",
      " |-- beats_loudness.min: double (nullable = true)\n",
      " |-- beats_loudness.var: double (nullable = true)\n",
      " |-- beats_loudness_band_ratio.dmean: array (nullable = true)\n",
      " |    |-- element: float (containsNull = true)\n",
      " |-- beats_loudness_band_ratio.dmean2: array (nullable = true)\n",
      " |    |-- element: float (containsNull = true)\n",
      " |-- beats_loudness_band_ratio.dvar: array (nullable = true)\n",
      " |    |-- element: float (containsNull = true)\n",
      " |-- beats_loudness_band_ratio.dvar2: array (nullable = true)\n",
      " |    |-- element: float (containsNull = true)\n",
      " |-- beats_loudness_band_ratio.max: array (nullable = true)\n",
      " |    |-- element: float (containsNull = true)\n",
      " |-- beats_loudness_band_ratio.mean: array (nullable = true)\n",
      " |    |-- element: float (containsNull = true)\n",
      " |-- beats_loudness_band_ratio.median: array (nullable = true)\n",
      " |    |-- element: float (containsNull = true)\n",
      " |-- beats_loudness_band_ratio.min: array (nullable = true)\n",
      " |    |-- element: float (containsNull = true)\n",
      " |-- beats_loudness_band_ratio.var: array (nullable = true)\n",
      " |    |-- element: float (containsNull = true)\n",
      " |-- bpm_histogram_first_peak_bpm.dmean: integer (nullable = true)\n",
      " |-- bpm_histogram_first_peak_bpm.dmean2: integer (nullable = true)\n",
      " |-- bpm_histogram_first_peak_bpm.dvar: integer (nullable = true)\n",
      " |-- bpm_histogram_first_peak_bpm.dvar2: integer (nullable = true)\n",
      " |-- bpm_histogram_first_peak_bpm.max: integer (nullable = true)\n",
      " |-- bpm_histogram_first_peak_bpm.mean: integer (nullable = true)\n",
      " |-- bpm_histogram_first_peak_bpm.median: integer (nullable = true)\n",
      " |-- bpm_histogram_first_peak_bpm.min: integer (nullable = true)\n",
      " |-- bpm_histogram_first_peak_bpm.var: integer (nullable = true)\n",
      " |-- bpm_histogram_first_peak_spread.dmean: integer (nullable = true)\n",
      " |-- bpm_histogram_first_peak_spread.dmean2: integer (nullable = true)\n",
      " |-- bpm_histogram_first_peak_spread.dvar: integer (nullable = true)\n",
      " |-- bpm_histogram_first_peak_spread.dvar2: integer (nullable = true)\n",
      " |-- bpm_histogram_first_peak_spread.max: double (nullable = true)\n",
      " |-- bpm_histogram_first_peak_spread.mean: double (nullable = true)\n",
      " |-- bpm_histogram_first_peak_spread.median: double (nullable = true)\n",
      " |-- bpm_histogram_first_peak_spread.min: double (nullable = true)\n",
      " |-- bpm_histogram_first_peak_spread.var: integer (nullable = true)\n",
      " |-- bpm_histogram_first_peak_weight.dmean: integer (nullable = true)\n",
      " |-- bpm_histogram_first_peak_weight.dmean2: integer (nullable = true)\n",
      " |-- bpm_histogram_first_peak_weight.dvar: integer (nullable = true)\n",
      " |-- bpm_histogram_first_peak_weight.dvar2: integer (nullable = true)\n",
      " |-- bpm_histogram_first_peak_weight.max: double (nullable = true)\n",
      " |-- bpm_histogram_first_peak_weight.mean: double (nullable = true)\n",
      " |-- bpm_histogram_first_peak_weight.median: double (nullable = true)\n",
      " |-- bpm_histogram_first_peak_weight.min: double (nullable = true)\n",
      " |-- bpm_histogram_first_peak_weight.var: integer (nullable = true)\n",
      " |-- bpm_histogram_second_peak_bpm.dmean: integer (nullable = true)\n",
      " |-- bpm_histogram_second_peak_bpm.dmean2: integer (nullable = true)\n",
      " |-- bpm_histogram_second_peak_bpm.dvar: integer (nullable = true)\n",
      " |-- bpm_histogram_second_peak_bpm.dvar2: integer (nullable = true)\n",
      " |-- bpm_histogram_second_peak_bpm.max: integer (nullable = true)\n",
      " |-- bpm_histogram_second_peak_bpm.mean: integer (nullable = true)\n",
      " |-- bpm_histogram_second_peak_bpm.median: integer (nullable = true)\n",
      " |-- bpm_histogram_second_peak_bpm.min: integer (nullable = true)\n",
      " |-- bpm_histogram_second_peak_bpm.var: integer (nullable = true)\n",
      " |-- bpm_histogram_second_peak_spread.dmean: integer (nullable = true)\n",
      " |-- bpm_histogram_second_peak_spread.dmean2: integer (nullable = true)\n",
      " |-- bpm_histogram_second_peak_spread.dvar: integer (nullable = true)\n",
      " |-- bpm_histogram_second_peak_spread.dvar2: integer (nullable = true)\n",
      " |-- bpm_histogram_second_peak_spread.max: double (nullable = true)\n",
      " |-- bpm_histogram_second_peak_spread.mean: double (nullable = true)\n",
      " |-- bpm_histogram_second_peak_spread.median: double (nullable = true)\n",
      " |-- bpm_histogram_second_peak_spread.min: double (nullable = true)\n",
      " |-- bpm_histogram_second_peak_spread.var: integer (nullable = true)\n",
      " |-- bpm_histogram_second_peak_weight.dmean: integer (nullable = true)\n",
      " |-- bpm_histogram_second_peak_weight.dmean2: integer (nullable = true)\n",
      " |-- bpm_histogram_second_peak_weight.dvar: integer (nullable = true)\n",
      " |-- bpm_histogram_second_peak_weight.dvar2: integer (nullable = true)\n",
      " |-- bpm_histogram_second_peak_weight.max: double (nullable = true)\n",
      " |-- bpm_histogram_second_peak_weight.mean: double (nullable = true)\n",
      " |-- bpm_histogram_second_peak_weight.median: double (nullable = true)\n",
      " |-- bpm_histogram_second_peak_weight.min: double (nullable = true)\n",
      " |-- bpm_histogram_second_peak_weight.var: integer (nullable = true)\n",
      " |-- chords_changes_rate: double (nullable = true)\n",
      " |-- chords_histogram: array (nullable = true)\n",
      " |    |-- element: float (containsNull = true)\n",
      " |-- chords_key: string (nullable = true)\n",
      " |-- chords_number_rate: double (nullable = true)\n",
      " |-- chords_scale: string (nullable = true)\n",
      " |-- key_key: string (nullable = true)\n",
      " |-- key_scale: string (nullable = true)\n",
      " |-- key_strength: double (nullable = true)\n",
      " |-- thpcp: array (nullable = true)\n",
      " |    |-- element: float (containsNull = true)\n",
      " |-- tuning_diatonic_strength: double (nullable = true)\n",
      " |-- tuning_equal_tempered_deviation: double (nullable = true)\n",
      " |-- tuning_frequency: double (nullable = true)\n",
      " |-- tuning_nontempered_energy_ratio: double (nullable = true)\n",
      " |-- chords_strength.dmean: double (nullable = true)\n",
      " |-- chords_strength.dmean2: double (nullable = true)\n",
      " |-- chords_strength.dvar: double (nullable = true)\n",
      " |-- chords_strength.dvar2: double (nullable = true)\n",
      " |-- chords_strength.max: double (nullable = true)\n",
      " |-- chords_strength.mean: double (nullable = true)\n",
      " |-- chords_strength.median: double (nullable = true)\n",
      " |-- chords_strength.min: double (nullable = true)\n",
      " |-- chords_strength.var: double (nullable = true)\n",
      " |-- hpcp.dmean: array (nullable = true)\n",
      " |    |-- element: float (containsNull = true)\n",
      " |-- hpcp.dmean2: array (nullable = true)\n",
      " |    |-- element: float (containsNull = true)\n",
      " |-- hpcp.dvar: array (nullable = true)\n",
      " |    |-- element: float (containsNull = true)\n",
      " |-- hpcp.dvar2: array (nullable = true)\n",
      " |    |-- element: float (containsNull = true)\n",
      " |-- hpcp.max: array (nullable = true)\n",
      " |    |-- element: float (containsNull = true)\n",
      " |-- hpcp.mean: array (nullable = true)\n",
      " |    |-- element: float (containsNull = true)\n",
      " |-- hpcp.median: array (nullable = true)\n",
      " |    |-- element: float (containsNull = true)\n",
      " |-- hpcp.min: array (nullable = true)\n",
      " |    |-- element: float (containsNull = true)\n",
      " |-- hpcp.var: array (nullable = true)\n",
      " |    |-- element: float (containsNull = true)\n",
      " |-- hpcp_entropy.dmean: double (nullable = true)\n",
      " |-- hpcp_entropy.dmean2: double (nullable = true)\n",
      " |-- hpcp_entropy.dvar: double (nullable = true)\n",
      " |-- hpcp_entropy.dvar2: double (nullable = true)\n",
      " |-- hpcp_entropy.max: double (nullable = true)\n",
      " |-- hpcp_entropy.mean: double (nullable = true)\n",
      " |-- hpcp_entropy.median: double (nullable = true)\n",
      " |-- hpcp_entropy.min: double (nullable = true)\n",
      " |-- hpcp_entropy.var: double (nullable = true)\n",
      " |-- gid: string (nullable = true)\n",
      " |-- count: double (nullable = true)\n",
      " |-- cat_cross: array (nullable = true)\n",
      " |    |-- element: double (containsNull = true)\n",
      "\n"
     ]
    }
   ],
   "source": [
    "df = df.join(genre, df.index==genre.gid, 'inner')\n",
    "df = df.drop(df.__index_level_0__).drop(df.index)\n",
    "df.printSchema()"
   ]
  },
  {
   "cell_type": "markdown",
   "metadata": {},
   "source": [
    "## Part 6 - Merging of all similar columns to a 2D matrix\n",
    "Things like \"barkbands\", \"erbbands\", \"melbands\" should all be clustered into a 2D matrix for easier processing when doing Deep Learning. Merging all these columns makes it easy to work with in a DL application."
   ]
  },
  {
   "cell_type": "code",
   "execution_count": 91,
   "metadata": {},
   "outputs": [],
   "source": [
    "#I already specified colgroup eariler\n",
    "dropcol = []\n",
    "for k in colgroup:\n",
    "    pattern = re.compile(\"{}\\.\".format(k))\n",
    "    mercol = [col for col in default_columns if re.search(pattern, col)]\n",
    "    litcol = [\"`\"+i+\"`\" for i in mercol]\n",
    "    df = df.withColumn(k, array(litcol))\n",
    "    dropcol = np.concatenate([dropcol, mercol])\n",
    "df = df.drop(*dropcol)"
   ]
  },
  {
   "cell_type": "code",
   "execution_count": 93,
   "metadata": {},
   "outputs": [
    {
     "name": "stdout",
     "output_type": "stream",
     "text": [
      "[[0.020926741883158684, 0.025013452395796776, 0.004412636626511812, 0.0034730236511677504, 0.004636225290596485, 0.0009782052366062999, 0.0007385953795164824, 0.000714368827175349, 0.0005219386075623333, 0.0002858470834325999, 0.00020057670189999044, 0.00021363867563195527, 0.00022517704928759485, 0.0001795208518160507, 0.000140201227623038, 0.00010960613144561648, 0.00014570560597348958, 0.00013620434037875384, 0.00012751136091537774, 0.00010248825128655881, 0.00010937304614344612, 5.655180211761035e-05, 2.9631730285473168e-05, 2.1515659682336263e-05, 0.00039906371966935694, 3.9579386793775484e-05, 9.190034325001761e-05], [0.0343354195356369, 0.04112480580806732, 0.007527674548327923, 0.005851578898727894, 0.007603638805449009, 0.0015732392203062773, 0.001135632861405611, 0.001154429162852466, 0.0007844818173907697, 0.0004330945375841111, 0.0002948124019894749, 0.0003362208080943674, 0.00032927613938227296, 0.0002682297199498862, 0.0002117143594659865, 0.00016051370766945183, 0.00021798799571115524, 0.00020348366524558514, 0.0001951448793988675, 0.00015796841762494296, 0.000165683712111786, 8.577421976951882e-05, 4.639508915715851e-05, 3.163715518894605e-05, 0.00046265748096629977, 5.283436621539295e-05, 0.00013529913849197328], [0.001225520740263164, 0.0015592245617881417, 4.34682697232347e-05, 3.083044430240989e-05, 7.704223389737308e-05, 2.511941374905291e-06, 4.146084393141791e-06, 4.127230567974038e-06, 2.050958073596121e-06, 9.66328798313043e-07, 3.4371083756923326e-07, 5.59072930172988e-07, 2.6626054250300513e-07, 2.584621086043626e-07, 1.160879463668607e-07, 7.409503410826801e-08, 9.468966055692363e-08, 1.1344181416461652e-07, 8.089313752179805e-08, 4.1549888862846274e-08, 5.2813934559026166e-08, 1.1297721869141242e-08, 3.8219396536476324e-09, 2.053617720321199e-09, 2.6329098545829765e-06, 1.1004331668118539e-08, 6.744589597929007e-08], [0.0030697425827383995, 0.004177214112132788, 0.00011923167039640248, 8.363262168131769e-05, 0.00019498291658237576, 6.374561053235084e-06, 9.806896741793025e-06, 1.0152517461392563e-05, 4.010642896901118e-06, 1.6536149587409454e-06, 6.870993161101069e-07, 1.336650711891707e-06, 5.836334366904339e-07, 5.634564104184392e-07, 2.2881981465161516e-07, 1.4724999175541598e-07, 1.8730527528987295e-07, 2.5800869707381935e-07, 1.8536043455696927e-07, 9.285811586323689e-08, 1.0885043622010926e-07, 2.3897010592577317e-08, 9.146376989122018e-09, 3.8258312073935485e-09, 3.6585136058420176e-06, 1.8000786639049693e-08, 1.5776387840560346e-07], [0.5015760660171509, 0.4397227168083191, 0.07013776898384094, 0.10031846165657043, 0.13087429106235504, 0.030058402568101883, 0.04199967160820961, 0.028546836227178574, 0.02777322381734848, 0.015488661825656891, 0.011215189471840858, 0.011982685886323452, 0.007287945132702589, 0.008545629680156708, 0.005717918276786804, 0.004536647815257311, 0.006034922786056995, 0.005643859971314669, 0.004966231528669596, 0.0033847088925540447, 0.0038577455561608076, 0.001168971648439765, 0.0013080036733299494, 0.0034112585708498955, 0.038094207644462585, 0.004620702005922794, 0.005155626218765974], [0.03081509657204151, 0.0469377301633358, 0.005395377986133099, 0.00431242398917675, 0.006097245961427689, 0.001311666565015912, 0.0008311751298606396, 0.0007669259211979806, 0.0005894250934943557, 0.0003607828984968364, 0.00025427216314710677, 0.00025832877145148814, 0.0003003079036716372, 0.00025304072187282145, 0.0001711543882265687, 0.00014903498231433332, 0.00017467897851020098, 0.0001635449443710968, 0.0001597790833329782, 0.00014125155576039106, 0.00015123924822546542, 8.63730747369118e-05, 4.2809650039998814e-05, 3.2541291147936136e-05, 0.0005719226901419461, 5.9198828239459544e-05, 0.0001391329278703779], [0.014020068570971489, 0.038210123777389526, 0.0026035974733531475, 0.0018408335745334625, 0.0027668809052556753, 0.0005343884695321321, 0.00017524248687550426, 0.000105375045677647, 9.261685045203194e-05, 6.978079181862995e-05, 7.804358028806746e-05, 5.754845551564358e-05, 7.58934038458392e-05, 5.642579708364792e-05, 4.872021600021981e-05, 3.432146695558913e-05, 3.282007673988119e-05, 3.076600478379987e-05, 2.6164127120864578e-05, 2.191860221500974e-05, 1.8026865291176364e-05, 1.1965518751821946e-05, 7.223259217425948e-06, 5.418975433713058e-06, 4.415640887600603e-06, 6.2660019466420636e-06, 4.584690759656951e-05], [4.076359052778151e-24, 2.5955264008928206e-23, 1.0718646760829593e-23, 2.1817238910328023e-23, 3.0997273217813734e-23, 6.486889051698868e-23, 5.282062422243541e-23, 9.223706909376195e-23, 6.664811264617312e-23, 5.543502916919544e-23, 7.045259315454956e-23, 2.8276031260937815e-23, 1.2003918427727919e-22, 1.2949953241882613e-22, 1.2679414341070154e-22, 1.6774064396113302e-22, 1.3974412189613312e-22, 3.9866791047076557e-22, 1.8230552800463512e-22, 4.399507813111833e-22, 4.354262285685211e-22, 3.5646867355929415e-22, 7.89612860057643e-22, 1.1705616419325983e-21, 1.0546078231330522e-21, 1.8205821190669492e-21, 2.454425015410262e-21], [0.001998026855289936, 0.002543774666264653, 5.3226565796649083e-05, 3.742065018741414e-05, 8.854597399476916e-05, 3.983790520578623e-06, 5.046890237281332e-06, 5.112521648698021e-06, 3.276924644524115e-06, 1.6438804095741943e-06, 5.333114359018509e-07, 7.366242584794236e-07, 4.4989369030190574e-07, 4.6056501901148295e-07, 1.9569547760056594e-07, 1.3716963565002516e-07, 1.4540421489073196e-07, 1.3465869130868668e-07, 1.0674994399550997e-07, 6.492407322866711e-08, 8.532263962024444e-08, 2.4012464905354136e-08, 9.06095465325052e-09, 1.5688828014503997e-08, 7.127459866751451e-06, 4.098945893815653e-08, 8.486761515769103e-08]]\n"
     ]
    }
   ],
   "source": [
    "#now I have converted the relevant columns into 2D matrix representations and dropped off the 1D columns\n",
    "\n",
    "#uncomment the line below to see\n",
    "#df.printSchema()\n",
    "\n",
    "#An Example:\n",
    "print(df.select('`barkbands`').collect()[2][0])"
   ]
  },
  {
   "cell_type": "markdown",
   "metadata": {},
   "source": [
    "### Export\n",
    "Below is the final dataset which I will feed into my deep learning model"
   ]
  },
  {
   "cell_type": "code",
   "execution_count": 94,
   "metadata": {},
   "outputs": [
    {
     "name": "stdout",
     "output_type": "stream",
     "text": [
      "CPU times: user 27.9 ms, sys: 7.57 ms, total: 35.5 ms\n",
      "Wall time: 1min 26s\n"
     ]
    }
   ],
   "source": [
    "%%time\n",
    "df.write.parquet(\"reportfiles/chunk_{}.parquet\".format(chunk), mode=\"overwrite\")"
   ]
  },
  {
   "cell_type": "code",
   "execution_count": null,
   "metadata": {},
   "outputs": [],
   "source": []
  }
 ],
 "metadata": {
  "kernelspec": {
   "display_name": "Python 3",
   "language": "python",
   "name": "python3"
  },
  "language_info": {
   "codemirror_mode": {
    "name": "ipython",
    "version": 3
   },
   "file_extension": ".py",
   "mimetype": "text/x-python",
   "name": "python",
   "nbconvert_exporter": "python",
   "pygments_lexer": "ipython3",
   "version": "3.7.6"
  }
 },
 "nbformat": 4,
 "nbformat_minor": 2
}
